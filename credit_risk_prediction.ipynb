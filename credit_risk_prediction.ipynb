{
 "cells": [
  {
   "cell_type": "markdown",
   "metadata": {},
   "source": [
    "# Credit Risk Scorecard: End-to-End Machine Learning Pipeline\n",
    "\n",
    "## 📋 Table of Contents\n",
    "\n",
    "1. [**Executive Summary**](#executive-summary)\n",
    "2. [**Environment Setup**](#1-environment-setup)\n",
    "3. [**Data Loading & Exploration**](#2-data-loading--exploration)\n",
    "4. [**Data Preprocessing**](#3-data-preprocessing)\n",
    "5. [**Feature Engineering**](#4-feature-engineering)\n",
    "6. [**Model Development**](#5-model-development)\n",
    "7. [**Model Evaluation & Comparison**](#6-model-evaluation--comparison)\n",
    "8. [**Credit Scorecard Creation**](#7-credit-scorecard-creation)\n",
    "9. [**Business Impact Analysis**](#8-business-impact-analysis)\n",
    "10. [**Production Deployment Guide**](#9-production-deployment-guide)\n",
    "\n",
    "---\n",
    "\n",
    "## Executive Summary\n",
    "\n",
    "This notebook develops a **production-ready credit risk model** using industry-standard techniques:\n",
    "- **Weight of Evidence (WOE)** and **Information Value (IV)** for feature selection\n",
    "- **Logistic Regression** for interpretability and regulatory compliance\n",
    "- **Advanced ML models** (LightGBM, XGBoost) for performance benchmarking\n",
    "- **Business-oriented scorecard** with clear risk segmentation\n",
    "\n",
    "**Key Results:**\n",
    "- Model AUC: 0.72-0.76 (depending on approach)\n",
    "- Expected portfolio loss reduction: ~43%\n",
    "- Clear risk segmentation with 5 customer tiers\n",
    "- Production-ready monitoring framework\n",
    "\n",
    "**Estimated Runtime:** ~5-10 minutes (depending on system)"
   ]
  },
  {
   "cell_type": "code",
   "execution_count": 213,
   "metadata": {},
   "outputs": [],
   "source": [
    "# Track notebook execution time\n",
    "import time\n",
    "notebook_start_time = time.time()\n",
    "\n",
    "def print_section_time(section_name, start_time):\n",
    "    \"\"\"Helper function to print execution time for each section\"\"\"\n",
    "    elapsed = time.time() - start_time\n",
    "    print(f\"\\n{section_name} completed in {elapsed:.2f} seconds\")\n",
    "    #print(f\"\\nCurrent Time is {time.time()}\")\n",
    "    return time.time()"
   ]
  },
  {
   "cell_type": "markdown",
   "metadata": {},
   "source": [
    "## 1. Environment Setup\n",
    "\n",
    "Loading all required libraries and setting up the environment for reproducible results."
   ]
  },
  {
   "cell_type": "code",
   "execution_count": 216,
   "metadata": {},
   "outputs": [],
   "source": [
    "section_start = time.time()\n",
    "\n",
    "# System\n",
    "import os\n",
    "import warnings\n",
    "import sys\n",
    "from pathlib import Path"
   ]
  },
  {
   "cell_type": "code",
   "execution_count": 218,
   "metadata": {},
   "outputs": [],
   "source": [
    "# Core libraries\n",
    "import numpy as np\n",
    "import pandas as pd\n",
    "import matplotlib.pyplot as plt\n",
    "import seaborn as sns"
   ]
  },
  {
   "cell_type": "code",
   "execution_count": 220,
   "metadata": {},
   "outputs": [],
   "source": [
    "# Machine Learning\n",
    "import sklearn\n",
    "from sklearn.linear_model import LogisticRegression\n",
    "from sklearn.ensemble import RandomForestClassifier, GradientBoostingClassifier\n",
    "from sklearn.tree import DecisionTreeClassifier\n",
    "from sklearn.model_selection import train_test_split, GridSearchCV, RandomizedSearchCV, StratifiedKFold\n",
    "from sklearn.metrics import roc_auc_score, roc_curve, auc, classification_report\n",
    "from sklearn.feature_selection import mutual_info_classif\n",
    "from sklearn.model_selection import GridSearchCV, StratifiedKFold"
   ]
  },
  {
   "cell_type": "code",
   "execution_count": 222,
   "metadata": {},
   "outputs": [],
   "source": [
    "# Advanced ML libraries (optional - will check availability)\n",
    "try:\n",
    "    import xgboost as xgb\n",
    "    from xgboost import XGBClassifier\n",
    "    XGBOOST_AVAILABLE = True\n",
    "except ImportError:\n",
    "    XGBOOST_AVAILABLE = False\n",
    "    print(\"XGBoost not installed. Install with: pip install xgboost\")\n",
    "\n",
    "try:\n",
    "    import lightgbm as lgb\n",
    "    LIGHTGBM_AVAILABLE = True\n",
    "except ImportError:\n",
    "    LIGHTGBM_AVAILABLE = False\n",
    "    print(\" LightGBM not installed. Install with: pip install lightgbm\")"
   ]
  },
  {
   "cell_type": "code",
   "execution_count": 233,
   "metadata": {},
   "outputs": [],
   "source": [
    "from kaggle.api.kaggle_api_extended import KaggleApi"
   ]
  },
  {
   "cell_type": "code",
   "execution_count": 224,
   "metadata": {},
   "outputs": [
    {
     "name": "stdout",
     "output_type": "stream",
     "text": [
      "Environment setup complete\n",
      "Python: 3.12.7\n",
      "Pandas: 2.2.3\n",
      "NumPy: 1.26.4\n",
      "Scikit-learn: 1.5.2\n",
      "\n",
      "Environment Setup completed in 6.10 seconds\n"
     ]
    },
    {
     "data": {
      "text/plain": [
       "1758239052.0345569"
      ]
     },
     "execution_count": 224,
     "metadata": {},
     "output_type": "execute_result"
    }
   ],
   "source": [
    "# Configuration\n",
    "warnings.filterwarnings('ignore')\n",
    "np.random.seed(42)\n",
    "plt.style.use('seaborn-v0_8-darkgrid')\n",
    "\n",
    "# Display settings\n",
    "pd.set_option('display.max_columns', None)\n",
    "pd.set_option('display.max_rows', 100)\n",
    "pd.set_option('display.float_format', '{:.4f}'.format)\n",
    "\n",
    "print(\"Environment setup complete\")\n",
    "print(f\"Python: {sys.version.split()[0]}\")\n",
    "print(f\"Pandas: {pd.__version__}\")\n",
    "print(f\"NumPy: {np.__version__}\")\n",
    "print(f\"Scikit-learn: {sklearn.__version__}\")\n",
    "\n",
    "print_section_time(\"Environment Setup\", section_start)"
   ]
  },
  {
   "cell_type": "markdown",
   "metadata": {},
   "source": [
    "## 2. Data Loading & Exploration\n",
    "\n",
    "### 2.1 Load Dataset"
   ]
  },
  {
   "cell_type": "code",
   "execution_count": 229,
   "metadata": {},
   "outputs": [
    {
     "name": "stdout",
     "output_type": "stream",
     "text": [
      "Dataset URL: https://www.kaggle.com/datasets/ranadeep/credit-risk-dataset\n"
     ]
    }
   ],
   "source": [
    "section_start = time.time()\n",
    "\n",
    "# Authenticate\n",
    "\n",
    "api = KaggleApi()\n",
    "api.authenticate()\n",
    "\n",
    "# Download to a specific folder\n",
    "api.dataset_download_files('ranadeep/credit-risk-dataset', \n",
    "                          path='./', \n",
    "                          unzip=True)\n",
    "\n",
    "# Load the CSV\n",
    "df = pd.read_csv('./loan.csv')"
   ]
  },
  {
   "cell_type": "code",
   "execution_count": 235,
   "metadata": {},
   "outputs": [],
   "source": [
    "# If downloading dataset\n",
    "# Flexible file loading\n",
    "#DATA_PATH = 'loan.csv'  # Update this path as needed\n",
    "#\n",
    "## Check if file exists\n",
    "#if not os.path.exists(DATA_PATH):\n",
    "#    print(f\"Error: {DATA_PATH} not found!\")\n",
    "#    print(\"Please ensure the loan.csv file is in the current directory or update DATA_PATH\")\n",
    "#else:\n",
    "#    df = pd.read_csv(DATA_PATH)\n",
    "#    print(f\"Data loaded successfully: {df.shape[0]:,} rows × {df.shape[1]} columns\")#"
   ]
  },
  {
   "cell_type": "markdown",
   "metadata": {},
   "source": [
    "### 2.2 Initial Data Exploration"
   ]
  },
  {
   "cell_type": "code",
   "execution_count": 21,
   "metadata": {},
   "outputs": [
    {
     "name": "stdout",
     "output_type": "stream",
     "text": [
      "DATASET OVERVIEW\n",
      "==================================================\n",
      "Shape: (887379, 74)\n",
      "Memory Usage: 501.0 MB\n",
      "\n",
      "Data Types:\n",
      "float64    49\n",
      "object     23\n",
      "int64       2\n",
      "Name: count, dtype: int64\n"
     ]
    }
   ],
   "source": [
    "# Basic information\n",
    "print(\"DATASET OVERVIEW\")\n",
    "print(\"=\" * 50)\n",
    "print(f\"Shape: {df.shape}\")\n",
    "print(f\"Memory Usage: {df.memory_usage().sum() / 1024**2:.1f} MB\")\n",
    "print(f\"\\nData Types:\")\n",
    "print(df.dtypes.value_counts())"
   ]
  },
  {
   "cell_type": "code",
   "execution_count": 22,
   "metadata": {},
   "outputs": [
    {
     "name": "stdout",
     "output_type": "stream",
     "text": [
      "\n",
      "Missing Values Summary:\n",
      "Columns with missing values: 40\n",
      "Columns with >90% missing: 17\n",
      "Columns with >50% missing: 21\n",
      "\n",
      " Data Sample:\n"
     ]
    },
    {
     "data": {
      "text/html": [
       "<div>\n",
       "<style scoped>\n",
       "    .dataframe tbody tr th:only-of-type {\n",
       "        vertical-align: middle;\n",
       "    }\n",
       "\n",
       "    .dataframe tbody tr th {\n",
       "        vertical-align: top;\n",
       "    }\n",
       "\n",
       "    .dataframe thead th {\n",
       "        text-align: right;\n",
       "    }\n",
       "</style>\n",
       "<table border=\"1\" class=\"dataframe\">\n",
       "  <thead>\n",
       "    <tr style=\"text-align: right;\">\n",
       "      <th></th>\n",
       "      <th>id</th>\n",
       "      <th>member_id</th>\n",
       "      <th>loan_amnt</th>\n",
       "      <th>funded_amnt</th>\n",
       "      <th>funded_amnt_inv</th>\n",
       "      <th>term</th>\n",
       "      <th>int_rate</th>\n",
       "      <th>installment</th>\n",
       "      <th>grade</th>\n",
       "      <th>sub_grade</th>\n",
       "      <th>emp_title</th>\n",
       "      <th>emp_length</th>\n",
       "      <th>home_ownership</th>\n",
       "      <th>annual_inc</th>\n",
       "      <th>verification_status</th>\n",
       "      <th>issue_d</th>\n",
       "      <th>loan_status</th>\n",
       "      <th>pymnt_plan</th>\n",
       "      <th>url</th>\n",
       "      <th>desc</th>\n",
       "      <th>purpose</th>\n",
       "      <th>title</th>\n",
       "      <th>zip_code</th>\n",
       "      <th>addr_state</th>\n",
       "      <th>dti</th>\n",
       "      <th>delinq_2yrs</th>\n",
       "      <th>earliest_cr_line</th>\n",
       "      <th>inq_last_6mths</th>\n",
       "      <th>mths_since_last_delinq</th>\n",
       "      <th>mths_since_last_record</th>\n",
       "      <th>open_acc</th>\n",
       "      <th>pub_rec</th>\n",
       "      <th>revol_bal</th>\n",
       "      <th>revol_util</th>\n",
       "      <th>total_acc</th>\n",
       "      <th>initial_list_status</th>\n",
       "      <th>out_prncp</th>\n",
       "      <th>out_prncp_inv</th>\n",
       "      <th>total_pymnt</th>\n",
       "      <th>total_pymnt_inv</th>\n",
       "      <th>total_rec_prncp</th>\n",
       "      <th>total_rec_int</th>\n",
       "      <th>total_rec_late_fee</th>\n",
       "      <th>recoveries</th>\n",
       "      <th>collection_recovery_fee</th>\n",
       "      <th>last_pymnt_d</th>\n",
       "      <th>last_pymnt_amnt</th>\n",
       "      <th>next_pymnt_d</th>\n",
       "      <th>last_credit_pull_d</th>\n",
       "      <th>collections_12_mths_ex_med</th>\n",
       "      <th>mths_since_last_major_derog</th>\n",
       "      <th>policy_code</th>\n",
       "      <th>application_type</th>\n",
       "      <th>annual_inc_joint</th>\n",
       "      <th>dti_joint</th>\n",
       "      <th>verification_status_joint</th>\n",
       "      <th>acc_now_delinq</th>\n",
       "      <th>tot_coll_amt</th>\n",
       "      <th>tot_cur_bal</th>\n",
       "      <th>open_acc_6m</th>\n",
       "      <th>open_il_6m</th>\n",
       "      <th>open_il_12m</th>\n",
       "      <th>open_il_24m</th>\n",
       "      <th>mths_since_rcnt_il</th>\n",
       "      <th>total_bal_il</th>\n",
       "      <th>il_util</th>\n",
       "      <th>open_rv_12m</th>\n",
       "      <th>open_rv_24m</th>\n",
       "      <th>max_bal_bc</th>\n",
       "      <th>all_util</th>\n",
       "      <th>total_rev_hi_lim</th>\n",
       "      <th>inq_fi</th>\n",
       "      <th>total_cu_tl</th>\n",
       "      <th>inq_last_12m</th>\n",
       "    </tr>\n",
       "  </thead>\n",
       "  <tbody>\n",
       "    <tr>\n",
       "      <th>0</th>\n",
       "      <td>1077501</td>\n",
       "      <td>1296599</td>\n",
       "      <td>5000.0000</td>\n",
       "      <td>5000.0000</td>\n",
       "      <td>4975.0000</td>\n",
       "      <td>36 months</td>\n",
       "      <td>10.6500</td>\n",
       "      <td>162.8700</td>\n",
       "      <td>B</td>\n",
       "      <td>B2</td>\n",
       "      <td>NaN</td>\n",
       "      <td>10+ years</td>\n",
       "      <td>RENT</td>\n",
       "      <td>24000.0000</td>\n",
       "      <td>Verified</td>\n",
       "      <td>Dec-2011</td>\n",
       "      <td>Fully Paid</td>\n",
       "      <td>n</td>\n",
       "      <td>https://www.lendingclub.com/browse/loanDetail....</td>\n",
       "      <td>Borrower added on 12/22/11 &gt; I need to upgra...</td>\n",
       "      <td>credit_card</td>\n",
       "      <td>Computer</td>\n",
       "      <td>860xx</td>\n",
       "      <td>AZ</td>\n",
       "      <td>27.6500</td>\n",
       "      <td>0.0000</td>\n",
       "      <td>Jan-1985</td>\n",
       "      <td>1.0000</td>\n",
       "      <td>NaN</td>\n",
       "      <td>NaN</td>\n",
       "      <td>3.0000</td>\n",
       "      <td>0.0000</td>\n",
       "      <td>13648.0000</td>\n",
       "      <td>83.7000</td>\n",
       "      <td>9.0000</td>\n",
       "      <td>f</td>\n",
       "      <td>0.0000</td>\n",
       "      <td>0.0000</td>\n",
       "      <td>5861.0714</td>\n",
       "      <td>5831.7800</td>\n",
       "      <td>5000.0000</td>\n",
       "      <td>861.0700</td>\n",
       "      <td>0.0000</td>\n",
       "      <td>0.0000</td>\n",
       "      <td>0.0000</td>\n",
       "      <td>Jan-2015</td>\n",
       "      <td>171.6200</td>\n",
       "      <td>NaN</td>\n",
       "      <td>Jan-2016</td>\n",
       "      <td>0.0000</td>\n",
       "      <td>NaN</td>\n",
       "      <td>1.0000</td>\n",
       "      <td>INDIVIDUAL</td>\n",
       "      <td>NaN</td>\n",
       "      <td>NaN</td>\n",
       "      <td>NaN</td>\n",
       "      <td>0.0000</td>\n",
       "      <td>NaN</td>\n",
       "      <td>NaN</td>\n",
       "      <td>NaN</td>\n",
       "      <td>NaN</td>\n",
       "      <td>NaN</td>\n",
       "      <td>NaN</td>\n",
       "      <td>NaN</td>\n",
       "      <td>NaN</td>\n",
       "      <td>NaN</td>\n",
       "      <td>NaN</td>\n",
       "      <td>NaN</td>\n",
       "      <td>NaN</td>\n",
       "      <td>NaN</td>\n",
       "      <td>NaN</td>\n",
       "      <td>NaN</td>\n",
       "      <td>NaN</td>\n",
       "      <td>NaN</td>\n",
       "    </tr>\n",
       "    <tr>\n",
       "      <th>1</th>\n",
       "      <td>1077430</td>\n",
       "      <td>1314167</td>\n",
       "      <td>2500.0000</td>\n",
       "      <td>2500.0000</td>\n",
       "      <td>2500.0000</td>\n",
       "      <td>60 months</td>\n",
       "      <td>15.2700</td>\n",
       "      <td>59.8300</td>\n",
       "      <td>C</td>\n",
       "      <td>C4</td>\n",
       "      <td>Ryder</td>\n",
       "      <td>&lt; 1 year</td>\n",
       "      <td>RENT</td>\n",
       "      <td>30000.0000</td>\n",
       "      <td>Source Verified</td>\n",
       "      <td>Dec-2011</td>\n",
       "      <td>Charged Off</td>\n",
       "      <td>n</td>\n",
       "      <td>https://www.lendingclub.com/browse/loanDetail....</td>\n",
       "      <td>Borrower added on 12/22/11 &gt; I plan to use t...</td>\n",
       "      <td>car</td>\n",
       "      <td>bike</td>\n",
       "      <td>309xx</td>\n",
       "      <td>GA</td>\n",
       "      <td>1.0000</td>\n",
       "      <td>0.0000</td>\n",
       "      <td>Apr-1999</td>\n",
       "      <td>5.0000</td>\n",
       "      <td>NaN</td>\n",
       "      <td>NaN</td>\n",
       "      <td>3.0000</td>\n",
       "      <td>0.0000</td>\n",
       "      <td>1687.0000</td>\n",
       "      <td>9.4000</td>\n",
       "      <td>4.0000</td>\n",
       "      <td>f</td>\n",
       "      <td>0.0000</td>\n",
       "      <td>0.0000</td>\n",
       "      <td>1008.7100</td>\n",
       "      <td>1008.7100</td>\n",
       "      <td>456.4600</td>\n",
       "      <td>435.1700</td>\n",
       "      <td>0.0000</td>\n",
       "      <td>117.0800</td>\n",
       "      <td>1.1100</td>\n",
       "      <td>Apr-2013</td>\n",
       "      <td>119.6600</td>\n",
       "      <td>NaN</td>\n",
       "      <td>Sep-2013</td>\n",
       "      <td>0.0000</td>\n",
       "      <td>NaN</td>\n",
       "      <td>1.0000</td>\n",
       "      <td>INDIVIDUAL</td>\n",
       "      <td>NaN</td>\n",
       "      <td>NaN</td>\n",
       "      <td>NaN</td>\n",
       "      <td>0.0000</td>\n",
       "      <td>NaN</td>\n",
       "      <td>NaN</td>\n",
       "      <td>NaN</td>\n",
       "      <td>NaN</td>\n",
       "      <td>NaN</td>\n",
       "      <td>NaN</td>\n",
       "      <td>NaN</td>\n",
       "      <td>NaN</td>\n",
       "      <td>NaN</td>\n",
       "      <td>NaN</td>\n",
       "      <td>NaN</td>\n",
       "      <td>NaN</td>\n",
       "      <td>NaN</td>\n",
       "      <td>NaN</td>\n",
       "      <td>NaN</td>\n",
       "      <td>NaN</td>\n",
       "      <td>NaN</td>\n",
       "    </tr>\n",
       "    <tr>\n",
       "      <th>2</th>\n",
       "      <td>1077175</td>\n",
       "      <td>1313524</td>\n",
       "      <td>2400.0000</td>\n",
       "      <td>2400.0000</td>\n",
       "      <td>2400.0000</td>\n",
       "      <td>36 months</td>\n",
       "      <td>15.9600</td>\n",
       "      <td>84.3300</td>\n",
       "      <td>C</td>\n",
       "      <td>C5</td>\n",
       "      <td>NaN</td>\n",
       "      <td>10+ years</td>\n",
       "      <td>RENT</td>\n",
       "      <td>12252.0000</td>\n",
       "      <td>Not Verified</td>\n",
       "      <td>Dec-2011</td>\n",
       "      <td>Fully Paid</td>\n",
       "      <td>n</td>\n",
       "      <td>https://www.lendingclub.com/browse/loanDetail....</td>\n",
       "      <td>NaN</td>\n",
       "      <td>small_business</td>\n",
       "      <td>real estate business</td>\n",
       "      <td>606xx</td>\n",
       "      <td>IL</td>\n",
       "      <td>8.7200</td>\n",
       "      <td>0.0000</td>\n",
       "      <td>Nov-2001</td>\n",
       "      <td>2.0000</td>\n",
       "      <td>NaN</td>\n",
       "      <td>NaN</td>\n",
       "      <td>2.0000</td>\n",
       "      <td>0.0000</td>\n",
       "      <td>2956.0000</td>\n",
       "      <td>98.5000</td>\n",
       "      <td>10.0000</td>\n",
       "      <td>f</td>\n",
       "      <td>0.0000</td>\n",
       "      <td>0.0000</td>\n",
       "      <td>3003.6536</td>\n",
       "      <td>3003.6500</td>\n",
       "      <td>2400.0000</td>\n",
       "      <td>603.6500</td>\n",
       "      <td>0.0000</td>\n",
       "      <td>0.0000</td>\n",
       "      <td>0.0000</td>\n",
       "      <td>Jun-2014</td>\n",
       "      <td>649.9100</td>\n",
       "      <td>NaN</td>\n",
       "      <td>Jan-2016</td>\n",
       "      <td>0.0000</td>\n",
       "      <td>NaN</td>\n",
       "      <td>1.0000</td>\n",
       "      <td>INDIVIDUAL</td>\n",
       "      <td>NaN</td>\n",
       "      <td>NaN</td>\n",
       "      <td>NaN</td>\n",
       "      <td>0.0000</td>\n",
       "      <td>NaN</td>\n",
       "      <td>NaN</td>\n",
       "      <td>NaN</td>\n",
       "      <td>NaN</td>\n",
       "      <td>NaN</td>\n",
       "      <td>NaN</td>\n",
       "      <td>NaN</td>\n",
       "      <td>NaN</td>\n",
       "      <td>NaN</td>\n",
       "      <td>NaN</td>\n",
       "      <td>NaN</td>\n",
       "      <td>NaN</td>\n",
       "      <td>NaN</td>\n",
       "      <td>NaN</td>\n",
       "      <td>NaN</td>\n",
       "      <td>NaN</td>\n",
       "      <td>NaN</td>\n",
       "    </tr>\n",
       "    <tr>\n",
       "      <th>3</th>\n",
       "      <td>1076863</td>\n",
       "      <td>1277178</td>\n",
       "      <td>10000.0000</td>\n",
       "      <td>10000.0000</td>\n",
       "      <td>10000.0000</td>\n",
       "      <td>36 months</td>\n",
       "      <td>13.4900</td>\n",
       "      <td>339.3100</td>\n",
       "      <td>C</td>\n",
       "      <td>C1</td>\n",
       "      <td>AIR RESOURCES BOARD</td>\n",
       "      <td>10+ years</td>\n",
       "      <td>RENT</td>\n",
       "      <td>49200.0000</td>\n",
       "      <td>Source Verified</td>\n",
       "      <td>Dec-2011</td>\n",
       "      <td>Fully Paid</td>\n",
       "      <td>n</td>\n",
       "      <td>https://www.lendingclub.com/browse/loanDetail....</td>\n",
       "      <td>Borrower added on 12/21/11 &gt; to pay for prop...</td>\n",
       "      <td>other</td>\n",
       "      <td>personel</td>\n",
       "      <td>917xx</td>\n",
       "      <td>CA</td>\n",
       "      <td>20.0000</td>\n",
       "      <td>0.0000</td>\n",
       "      <td>Feb-1996</td>\n",
       "      <td>1.0000</td>\n",
       "      <td>35.0000</td>\n",
       "      <td>NaN</td>\n",
       "      <td>10.0000</td>\n",
       "      <td>0.0000</td>\n",
       "      <td>5598.0000</td>\n",
       "      <td>21.0000</td>\n",
       "      <td>37.0000</td>\n",
       "      <td>f</td>\n",
       "      <td>0.0000</td>\n",
       "      <td>0.0000</td>\n",
       "      <td>12226.3022</td>\n",
       "      <td>12226.3000</td>\n",
       "      <td>10000.0000</td>\n",
       "      <td>2209.3300</td>\n",
       "      <td>16.9700</td>\n",
       "      <td>0.0000</td>\n",
       "      <td>0.0000</td>\n",
       "      <td>Jan-2015</td>\n",
       "      <td>357.4800</td>\n",
       "      <td>NaN</td>\n",
       "      <td>Jan-2015</td>\n",
       "      <td>0.0000</td>\n",
       "      <td>NaN</td>\n",
       "      <td>1.0000</td>\n",
       "      <td>INDIVIDUAL</td>\n",
       "      <td>NaN</td>\n",
       "      <td>NaN</td>\n",
       "      <td>NaN</td>\n",
       "      <td>0.0000</td>\n",
       "      <td>NaN</td>\n",
       "      <td>NaN</td>\n",
       "      <td>NaN</td>\n",
       "      <td>NaN</td>\n",
       "      <td>NaN</td>\n",
       "      <td>NaN</td>\n",
       "      <td>NaN</td>\n",
       "      <td>NaN</td>\n",
       "      <td>NaN</td>\n",
       "      <td>NaN</td>\n",
       "      <td>NaN</td>\n",
       "      <td>NaN</td>\n",
       "      <td>NaN</td>\n",
       "      <td>NaN</td>\n",
       "      <td>NaN</td>\n",
       "      <td>NaN</td>\n",
       "      <td>NaN</td>\n",
       "    </tr>\n",
       "    <tr>\n",
       "      <th>4</th>\n",
       "      <td>1075358</td>\n",
       "      <td>1311748</td>\n",
       "      <td>3000.0000</td>\n",
       "      <td>3000.0000</td>\n",
       "      <td>3000.0000</td>\n",
       "      <td>60 months</td>\n",
       "      <td>12.6900</td>\n",
       "      <td>67.7900</td>\n",
       "      <td>B</td>\n",
       "      <td>B5</td>\n",
       "      <td>University Medical Group</td>\n",
       "      <td>1 year</td>\n",
       "      <td>RENT</td>\n",
       "      <td>80000.0000</td>\n",
       "      <td>Source Verified</td>\n",
       "      <td>Dec-2011</td>\n",
       "      <td>Current</td>\n",
       "      <td>n</td>\n",
       "      <td>https://www.lendingclub.com/browse/loanDetail....</td>\n",
       "      <td>Borrower added on 12/21/11 &gt; I plan on combi...</td>\n",
       "      <td>other</td>\n",
       "      <td>Personal</td>\n",
       "      <td>972xx</td>\n",
       "      <td>OR</td>\n",
       "      <td>17.9400</td>\n",
       "      <td>0.0000</td>\n",
       "      <td>Jan-1996</td>\n",
       "      <td>0.0000</td>\n",
       "      <td>38.0000</td>\n",
       "      <td>NaN</td>\n",
       "      <td>15.0000</td>\n",
       "      <td>0.0000</td>\n",
       "      <td>27783.0000</td>\n",
       "      <td>53.9000</td>\n",
       "      <td>38.0000</td>\n",
       "      <td>f</td>\n",
       "      <td>766.9000</td>\n",
       "      <td>766.9000</td>\n",
       "      <td>3242.1700</td>\n",
       "      <td>3242.1700</td>\n",
       "      <td>2233.1000</td>\n",
       "      <td>1009.0700</td>\n",
       "      <td>0.0000</td>\n",
       "      <td>0.0000</td>\n",
       "      <td>0.0000</td>\n",
       "      <td>Jan-2016</td>\n",
       "      <td>67.7900</td>\n",
       "      <td>Feb-2016</td>\n",
       "      <td>Jan-2016</td>\n",
       "      <td>0.0000</td>\n",
       "      <td>NaN</td>\n",
       "      <td>1.0000</td>\n",
       "      <td>INDIVIDUAL</td>\n",
       "      <td>NaN</td>\n",
       "      <td>NaN</td>\n",
       "      <td>NaN</td>\n",
       "      <td>0.0000</td>\n",
       "      <td>NaN</td>\n",
       "      <td>NaN</td>\n",
       "      <td>NaN</td>\n",
       "      <td>NaN</td>\n",
       "      <td>NaN</td>\n",
       "      <td>NaN</td>\n",
       "      <td>NaN</td>\n",
       "      <td>NaN</td>\n",
       "      <td>NaN</td>\n",
       "      <td>NaN</td>\n",
       "      <td>NaN</td>\n",
       "      <td>NaN</td>\n",
       "      <td>NaN</td>\n",
       "      <td>NaN</td>\n",
       "      <td>NaN</td>\n",
       "      <td>NaN</td>\n",
       "      <td>NaN</td>\n",
       "    </tr>\n",
       "  </tbody>\n",
       "</table>\n",
       "</div>"
      ],
      "text/plain": [
       "        id  member_id  loan_amnt  funded_amnt  funded_amnt_inv        term  \\\n",
       "0  1077501    1296599  5000.0000    5000.0000        4975.0000   36 months   \n",
       "1  1077430    1314167  2500.0000    2500.0000        2500.0000   60 months   \n",
       "2  1077175    1313524  2400.0000    2400.0000        2400.0000   36 months   \n",
       "3  1076863    1277178 10000.0000   10000.0000       10000.0000   36 months   \n",
       "4  1075358    1311748  3000.0000    3000.0000        3000.0000   60 months   \n",
       "\n",
       "   int_rate  installment grade sub_grade                 emp_title emp_length  \\\n",
       "0   10.6500     162.8700     B        B2                       NaN  10+ years   \n",
       "1   15.2700      59.8300     C        C4                     Ryder   < 1 year   \n",
       "2   15.9600      84.3300     C        C5                       NaN  10+ years   \n",
       "3   13.4900     339.3100     C        C1       AIR RESOURCES BOARD  10+ years   \n",
       "4   12.6900      67.7900     B        B5  University Medical Group     1 year   \n",
       "\n",
       "  home_ownership  annual_inc verification_status   issue_d  loan_status  \\\n",
       "0           RENT  24000.0000            Verified  Dec-2011   Fully Paid   \n",
       "1           RENT  30000.0000     Source Verified  Dec-2011  Charged Off   \n",
       "2           RENT  12252.0000        Not Verified  Dec-2011   Fully Paid   \n",
       "3           RENT  49200.0000     Source Verified  Dec-2011   Fully Paid   \n",
       "4           RENT  80000.0000     Source Verified  Dec-2011      Current   \n",
       "\n",
       "  pymnt_plan                                                url  \\\n",
       "0          n  https://www.lendingclub.com/browse/loanDetail....   \n",
       "1          n  https://www.lendingclub.com/browse/loanDetail....   \n",
       "2          n  https://www.lendingclub.com/browse/loanDetail....   \n",
       "3          n  https://www.lendingclub.com/browse/loanDetail....   \n",
       "4          n  https://www.lendingclub.com/browse/loanDetail....   \n",
       "\n",
       "                                                desc         purpose  \\\n",
       "0    Borrower added on 12/22/11 > I need to upgra...     credit_card   \n",
       "1    Borrower added on 12/22/11 > I plan to use t...             car   \n",
       "2                                                NaN  small_business   \n",
       "3    Borrower added on 12/21/11 > to pay for prop...           other   \n",
       "4    Borrower added on 12/21/11 > I plan on combi...           other   \n",
       "\n",
       "                  title zip_code addr_state     dti  delinq_2yrs  \\\n",
       "0              Computer    860xx         AZ 27.6500       0.0000   \n",
       "1                  bike    309xx         GA  1.0000       0.0000   \n",
       "2  real estate business    606xx         IL  8.7200       0.0000   \n",
       "3              personel    917xx         CA 20.0000       0.0000   \n",
       "4              Personal    972xx         OR 17.9400       0.0000   \n",
       "\n",
       "  earliest_cr_line  inq_last_6mths  mths_since_last_delinq  \\\n",
       "0         Jan-1985          1.0000                     NaN   \n",
       "1         Apr-1999          5.0000                     NaN   \n",
       "2         Nov-2001          2.0000                     NaN   \n",
       "3         Feb-1996          1.0000                 35.0000   \n",
       "4         Jan-1996          0.0000                 38.0000   \n",
       "\n",
       "   mths_since_last_record  open_acc  pub_rec  revol_bal  revol_util  \\\n",
       "0                     NaN    3.0000   0.0000 13648.0000     83.7000   \n",
       "1                     NaN    3.0000   0.0000  1687.0000      9.4000   \n",
       "2                     NaN    2.0000   0.0000  2956.0000     98.5000   \n",
       "3                     NaN   10.0000   0.0000  5598.0000     21.0000   \n",
       "4                     NaN   15.0000   0.0000 27783.0000     53.9000   \n",
       "\n",
       "   total_acc initial_list_status  out_prncp  out_prncp_inv  total_pymnt  \\\n",
       "0     9.0000                   f     0.0000         0.0000    5861.0714   \n",
       "1     4.0000                   f     0.0000         0.0000    1008.7100   \n",
       "2    10.0000                   f     0.0000         0.0000    3003.6536   \n",
       "3    37.0000                   f     0.0000         0.0000   12226.3022   \n",
       "4    38.0000                   f   766.9000       766.9000    3242.1700   \n",
       "\n",
       "   total_pymnt_inv  total_rec_prncp  total_rec_int  total_rec_late_fee  \\\n",
       "0        5831.7800        5000.0000       861.0700              0.0000   \n",
       "1        1008.7100         456.4600       435.1700              0.0000   \n",
       "2        3003.6500        2400.0000       603.6500              0.0000   \n",
       "3       12226.3000       10000.0000      2209.3300             16.9700   \n",
       "4        3242.1700        2233.1000      1009.0700              0.0000   \n",
       "\n",
       "   recoveries  collection_recovery_fee last_pymnt_d  last_pymnt_amnt  \\\n",
       "0      0.0000                   0.0000     Jan-2015         171.6200   \n",
       "1    117.0800                   1.1100     Apr-2013         119.6600   \n",
       "2      0.0000                   0.0000     Jun-2014         649.9100   \n",
       "3      0.0000                   0.0000     Jan-2015         357.4800   \n",
       "4      0.0000                   0.0000     Jan-2016          67.7900   \n",
       "\n",
       "  next_pymnt_d last_credit_pull_d  collections_12_mths_ex_med  \\\n",
       "0          NaN           Jan-2016                      0.0000   \n",
       "1          NaN           Sep-2013                      0.0000   \n",
       "2          NaN           Jan-2016                      0.0000   \n",
       "3          NaN           Jan-2015                      0.0000   \n",
       "4     Feb-2016           Jan-2016                      0.0000   \n",
       "\n",
       "   mths_since_last_major_derog  policy_code application_type  \\\n",
       "0                          NaN       1.0000       INDIVIDUAL   \n",
       "1                          NaN       1.0000       INDIVIDUAL   \n",
       "2                          NaN       1.0000       INDIVIDUAL   \n",
       "3                          NaN       1.0000       INDIVIDUAL   \n",
       "4                          NaN       1.0000       INDIVIDUAL   \n",
       "\n",
       "   annual_inc_joint  dti_joint verification_status_joint  acc_now_delinq  \\\n",
       "0               NaN        NaN                       NaN          0.0000   \n",
       "1               NaN        NaN                       NaN          0.0000   \n",
       "2               NaN        NaN                       NaN          0.0000   \n",
       "3               NaN        NaN                       NaN          0.0000   \n",
       "4               NaN        NaN                       NaN          0.0000   \n",
       "\n",
       "   tot_coll_amt  tot_cur_bal  open_acc_6m  open_il_6m  open_il_12m  \\\n",
       "0           NaN          NaN          NaN         NaN          NaN   \n",
       "1           NaN          NaN          NaN         NaN          NaN   \n",
       "2           NaN          NaN          NaN         NaN          NaN   \n",
       "3           NaN          NaN          NaN         NaN          NaN   \n",
       "4           NaN          NaN          NaN         NaN          NaN   \n",
       "\n",
       "   open_il_24m  mths_since_rcnt_il  total_bal_il  il_util  open_rv_12m  \\\n",
       "0          NaN                 NaN           NaN      NaN          NaN   \n",
       "1          NaN                 NaN           NaN      NaN          NaN   \n",
       "2          NaN                 NaN           NaN      NaN          NaN   \n",
       "3          NaN                 NaN           NaN      NaN          NaN   \n",
       "4          NaN                 NaN           NaN      NaN          NaN   \n",
       "\n",
       "   open_rv_24m  max_bal_bc  all_util  total_rev_hi_lim  inq_fi  total_cu_tl  \\\n",
       "0          NaN         NaN       NaN               NaN     NaN          NaN   \n",
       "1          NaN         NaN       NaN               NaN     NaN          NaN   \n",
       "2          NaN         NaN       NaN               NaN     NaN          NaN   \n",
       "3          NaN         NaN       NaN               NaN     NaN          NaN   \n",
       "4          NaN         NaN       NaN               NaN     NaN          NaN   \n",
       "\n",
       "   inq_last_12m  \n",
       "0           NaN  \n",
       "1           NaN  \n",
       "2           NaN  \n",
       "3           NaN  \n",
       "4           NaN  "
      ]
     },
     "execution_count": 22,
     "metadata": {},
     "output_type": "execute_result"
    }
   ],
   "source": [
    "# Missing values summary\n",
    "missing_summary = pd.DataFrame({\n",
    "    'Missing_Count': df.isnull().sum(),\n",
    "    'Missing_Percent': (df.isnull().sum() / len(df) * 100).round(2)\n",
    "})\n",
    "missing_summary = missing_summary[missing_summary['Missing_Count'] > 0].sort_values('Missing_Percent', ascending=False)\n",
    "\n",
    "print(f\"\\nMissing Values Summary:\")\n",
    "print(f\"Columns with missing values: {len(missing_summary)}\")\n",
    "print(f\"Columns with >90% missing: {len(missing_summary[missing_summary['Missing_Percent'] > 90])}\")\n",
    "print(f\"Columns with >50% missing: {len(missing_summary[missing_summary['Missing_Percent'] > 50])}\")\n",
    "\n",
    "# Sample of data\n",
    "print(\"\\n Data Sample:\")\n",
    "df.head(5)"
   ]
  },
  {
   "cell_type": "markdown",
   "metadata": {},
   "source": [
    "### 2.3 Target Variable Creation\n",
    "\n",
    "Creating a binary target variable from loan_status:"
   ]
  },
  {
   "cell_type": "code",
   "execution_count": 27,
   "metadata": {},
   "outputs": [
    {
     "name": "stdout",
     "output_type": "stream",
     "text": [
      "Loan Status Distribution:\n",
      "loan_status\n",
      "Current                                                601779\n",
      "Fully Paid                                             207723\n",
      "Charged Off                                             45248\n",
      "Late (31-120 days)                                      11591\n",
      "Issued                                                   8460\n",
      "In Grace Period                                          6253\n",
      "Late (16-30 days)                                        2357\n",
      "Does not meet the credit policy. Status:Fully Paid       1988\n",
      "Default                                                  1219\n",
      "Does not meet the credit policy. Status:Charged Off       761\n",
      "Name: count, dtype: int64\n"
     ]
    }
   ],
   "source": [
    "# Analyze loan_status distribution\n",
    "print(\"Loan Status Distribution:\")\n",
    "print(df['loan_status'].value_counts())"
   ]
  },
  {
   "cell_type": "code",
   "execution_count": 29,
   "metadata": {},
   "outputs": [],
   "source": [
    "# Create target variable\n",
    "def create_target(loan_status):\n",
    "    \"\"\"Map loan status to binary target (0=Good, 1=Bad)\"\"\"\n",
    "    bad_status = ['Charged Off', 'Default', 'Late (31-120 days)', \n",
    "                  'Late (16-30 days)', 'Does not meet the credit policy. Status:Charged Off']\n",
    "    good_status = ['Fully Paid', 'Current', 'Does not meet the credit policy. Status:Fully Paid']\n",
    "    \n",
    "    if loan_status in bad_status:\n",
    "        return 1  # Bad\n",
    "    elif loan_status in good_status:\n",
    "        return 0  # Good\n",
    "    else:\n",
    "        return None  # Exclude"
   ]
  },
  {
   "cell_type": "code",
   "execution_count": 31,
   "metadata": {},
   "outputs": [
    {
     "name": "stdout",
     "output_type": "stream",
     "text": [
      "\n",
      "Target Distribution:\n",
      "Good loans (0): 811,490 (93.0%)\n",
      "Bad loans (1):  61,176 (7.0%)\n",
      "Imbalance ratio: 13.3:1\n",
      "\n",
      "Data Loading & Exploration completed in 10.25 seconds\n"
     ]
    },
    {
     "data": {
      "text/plain": [
       "1758232673.078159"
      ]
     },
     "execution_count": 31,
     "metadata": {},
     "output_type": "execute_result"
    }
   ],
   "source": [
    "df['target'] = df['loan_status'].apply(create_target)\n",
    "df = df.dropna(subset=['target'])\n",
    "df['target'] = df['target'].astype(int)\n",
    "\n",
    "# Target distribution\n",
    "target_dist = df['target'].value_counts()\n",
    "print(f\"\\nTarget Distribution:\")\n",
    "print(f\"Good loans (0): {target_dist[0]:,} ({target_dist[0]/len(df)*100:.1f}%)\")\n",
    "print(f\"Bad loans (1):  {target_dist[1]:,} ({target_dist[1]/len(df)*100:.1f}%)\")\n",
    "print(f\"Imbalance ratio: {target_dist[0]/target_dist[1]:.1f}:1\")\n",
    "\n",
    "print_section_time(\"Data Loading & Exploration\", section_start)"
   ]
  },
  {
   "cell_type": "markdown",
   "metadata": {},
   "source": [
    "## 3. Data Preprocessing\n",
    "\n",
    "### 3.1 Remove Leakage and Irrelevant Features"
   ]
  },
  {
   "cell_type": "code",
   "execution_count": 33,
   "metadata": {},
   "outputs": [
    {
     "name": "stdout",
     "output_type": "stream",
     "text": [
      "Dropped 25 columns\n",
      "Remaining features: 49 (excluding target)\n"
     ]
    }
   ],
   "source": [
    "section_start = time.time()\n",
    "\n",
    "# Define columns to drop\n",
    "drop_cols = {\n",
    "    'identifiers': ['id', 'member_id', 'url'],\n",
    "    'target_related': ['loan_status'],\n",
    "    'text_fields': ['desc', 'emp_title', 'title', 'zip_code'],\n",
    "    'policy': ['policy_code'],  # Almost always 1\n",
    "    'joint_apps': ['annual_inc_joint', 'dti_joint', 'verification_status_joint'],  # Rare\n",
    "    'future_info': ['next_pymnt_d', 'last_pymnt_d', 'last_credit_pull_d',\n",
    "                    'out_prncp', 'out_prncp_inv', 'total_pymnt', 'total_pymnt_inv',\n",
    "                    'total_rec_prncp', 'total_rec_int', 'total_rec_late_fee',\n",
    "                    'recoveries', 'collection_recovery_fee'],\n",
    "    'high_missing': ['mths_since_last_major_derog']  # >70% missing\n",
    "}\n",
    "\n",
    "# Flatten the dictionary\n",
    "all_drop_cols = [col for cols in drop_cols.values() for col in cols]\n",
    "\n",
    "# Drop columns that exist\n",
    "cols_to_drop = [col for col in all_drop_cols if col in df.columns]\n",
    "df = df.drop(columns=cols_to_drop)\n",
    "\n",
    "print(f\"Dropped {len(cols_to_drop)} columns\")\n",
    "print(f\"Remaining features: {df.shape[1] - 1} (excluding target)\")"
   ]
  },
  {
   "cell_type": "markdown",
   "metadata": {},
   "source": [
    "### 3.2 Handle Date Features"
   ]
  },
  {
   "cell_type": "code",
   "execution_count": 36,
   "metadata": {},
   "outputs": [
    {
     "name": "stdout",
     "output_type": "stream",
     "text": [
      "Created credit_history_length feature\n"
     ]
    }
   ],
   "source": [
    "# Convert date columns and create credit history length\n",
    "if 'issue_d' in df.columns and 'earliest_cr_line' in df.columns:\n",
    "    df['issue_d'] = pd.to_datetime(df['issue_d'], format='%b-%Y', errors='coerce')\n",
    "    df['earliest_cr_line'] = pd.to_datetime(df['earliest_cr_line'], format='%b-%Y', errors='coerce')\n",
    "    \n",
    "    # Create credit history length in years\n",
    "    df['credit_history_length'] = (df['issue_d'] - df['earliest_cr_line']).dt.days / 365.25\n",
    "    \n",
    "    # Drop original date columns\n",
    "    df = df.drop(columns=['issue_d', 'earliest_cr_line'])\n",
    "    print(\"Created credit_history_length feature\")"
   ]
  },
  {
   "cell_type": "markdown",
   "metadata": {},
   "source": [
    "### 3.3 Handle Missing Values"
   ]
  },
  {
   "cell_type": "code",
   "execution_count": 39,
   "metadata": {},
   "outputs": [
    {
     "name": "stdout",
     "output_type": "stream",
     "text": [
      "Dropped 14 columns with >95% missing values\n"
     ]
    }
   ],
   "source": [
    "# Analyze missing values\n",
    "missing_analysis = pd.DataFrame({\n",
    "    'Missing_Percent': (df.isnull().sum() / len(df) * 100).round(2)\n",
    "})\n",
    "missing_analysis = missing_analysis[missing_analysis['Missing_Percent'] > 0].sort_values('Missing_Percent', ascending=False)\n",
    "\n",
    "# Drop columns with >95% missing\n",
    "high_missing_cols = missing_analysis[missing_analysis['Missing_Percent'] > 95].index.tolist()\n",
    "if high_missing_cols:\n",
    "    df = df.drop(columns=high_missing_cols)\n",
    "    print(f\"Dropped {len(high_missing_cols)} columns with >95% missing values\")"
   ]
  },
  {
   "cell_type": "code",
   "execution_count": 41,
   "metadata": {},
   "outputs": [
    {
     "name": "stdout",
     "output_type": "stream",
     "text": [
      "Missing value imputation complete\n",
      "Remaining missing values: 0\n",
      "\n",
      "Data Preprocessing completed in 4.64 seconds\n"
     ]
    }
   ],
   "source": [
    "# Impute remaining missing values\n",
    "numeric_cols = df.select_dtypes(include=[np.number]).columns.tolist()\n",
    "numeric_cols = [col for col in numeric_cols if col != 'target']\n",
    "categorical_cols = df.select_dtypes(include=['object']).columns.tolist()\n",
    "\n",
    "# Impute numeric columns with median\n",
    "for col in numeric_cols:\n",
    "    if df[col].isnull().any():\n",
    "        median_val = df[col].median()\n",
    "        df[col].fillna(median_val, inplace=True)\n",
    "\n",
    "# Impute categorical columns with mode\n",
    "for col in categorical_cols:\n",
    "    if df[col].isnull().any():\n",
    "        mode_val = df[col].mode()[0] if len(df[col].mode()) > 0 else 'Unknown'\n",
    "        df[col].fillna(mode_val, inplace=True)\n",
    "\n",
    "print(f\"Missing value imputation complete\")\n",
    "print(f\"Remaining missing values: {df.isnull().sum().sum()}\")\n",
    "\n",
    "print_section_time(\"Data Preprocessing\", section_start)"
   ]
  },
  {
   "cell_type": "markdown",
   "metadata": {},
   "source": [
    "## 4. Feature Engineering\n",
    "\n",
    "#### 4.1.1 Create Domain-Specific Features"
   ]
  },
  {
   "cell_type": "code",
   "execution_count": 43,
   "metadata": {},
   "outputs": [
    {
     "name": "stdout",
     "output_type": "stream",
     "text": [
      "Creating domain-specific features...\n",
      "✓ Created loan_burden\n",
      "✓ Created payment_to_income\n",
      "✓ Created credit utilization features\n",
      "✓ Created derogatory mark features\n",
      "✓ Created account age features\n",
      "\n",
      "Feature engineering complete. Total features: 39\n"
     ]
    }
   ],
   "source": [
    "section_start = time.time()\n",
    "\n",
    "print(\"Creating domain-specific features...\")\n",
    "\n",
    "# 1. Loan burden ratio\n",
    "if 'loan_amnt' in df.columns and 'annual_inc' in df.columns:\n",
    "    df['loan_burden'] = df['loan_amnt'] / (df['annual_inc'] + 1)\n",
    "    print(\"✓ Created loan_burden\")\n",
    "\n",
    "# 2. Payment to income ratio\n",
    "if 'installment' in df.columns and 'annual_inc' in df.columns:\n",
    "    df['payment_to_income'] = df['installment'] / (df['annual_inc'] / 12 + 1)\n",
    "    print(\"✓ Created payment_to_income\")\n",
    "\n",
    "# 3. Credit utilization categories\n",
    "if 'revol_util' in df.columns:\n",
    "    df['high_credit_util'] = (df['revol_util'] > 70).astype(int)\n",
    "    df['zero_balance'] = (df['revol_util'] == 0).astype(int)\n",
    "    print(\"✓ Created credit utilization features\")\n",
    "\n",
    "# 4. Derogatory marks\n",
    "derog_cols = ['pub_rec', 'delinq_2yrs', 'collections_12_mths_ex_med']\n",
    "available_derog = [col for col in derog_cols if col in df.columns]\n",
    "if available_derog:\n",
    "    df['total_derog'] = df[available_derog].sum(axis=1)\n",
    "    df['has_derog'] = (df['total_derog'] > 0).astype(int)\n",
    "    print(\"✓ Created derogatory mark features\")\n",
    "\n",
    "# 5. Account age features\n",
    "if 'total_acc' in df.columns and 'credit_history_length' in df.columns:\n",
    "    df['avg_account_age'] = df['credit_history_length'] / (df['total_acc'] + 1)\n",
    "    print(\"✓ Created account age features\")\n",
    "\n",
    "# Drop original features that were combined\n",
    "if 'loan_burden' in df.columns and 'loan_amnt' in df.columns:\n",
    "    df = df.drop(columns=['loan_amnt', 'dti'], errors='ignore')\n",
    "\n",
    "print(f\"\\nFeature engineering complete. Total features: {df.shape[1] - 1}\")"
   ]
  },
  {
   "cell_type": "markdown",
   "metadata": {},
   "source": [
    "#### 4.1.2 Advanced Feature Engineering Part 1"
   ]
  },
  {
   "cell_type": "code",
   "execution_count": 47,
   "metadata": {},
   "outputs": [
    {
     "name": "stdout",
     "output_type": "stream",
     "text": [
      "Available numeric columns:\n",
      "['funded_amnt', 'funded_amnt_inv', 'int_rate', 'installment', 'annual_inc', 'delinq_2yrs', 'inq_last_6mths', 'mths_since_last_delinq', 'mths_since_last_record', 'open_acc', 'pub_rec', 'revol_bal', 'revol_util', 'total_acc', 'last_pymnt_amnt', 'collections_12_mths_ex_med', 'acc_now_delinq', 'tot_coll_amt', 'tot_cur_bal', 'total_rev_hi_lim', 'credit_history_length', 'loan_burden', 'payment_to_income', 'high_credit_util', 'zero_balance', 'total_derog', 'has_derog', 'avg_account_age']\n"
     ]
    }
   ],
   "source": [
    "# Advanced Feature Engineering Part 1\n",
    "\n",
    "# Check what columns we have available\n",
    "print(\"Available numeric columns:\")\n",
    "numeric_cols = df.select_dtypes(include=[np.number]).columns.tolist()\n",
    "print([col for col in numeric_cols if not col.endswith('_bin') and col != 'target'])\n",
    "\n",
    "# Store original feature count\n",
    "original_features = df.shape[1]"
   ]
  },
  {
   "cell_type": "code",
   "execution_count": 49,
   "metadata": {},
   "outputs": [],
   "source": [
    "# 1. Interaction Features (using only available columns)\n",
    "if 'annual_inc' in df.columns and 'total_rev_hi_lim' in df.columns:\n",
    "    df['income_to_credit_limit'] = df['annual_inc'] / (df['total_rev_hi_lim'] + 1)\n",
    "\n",
    "# Skip credit_utilization_stress since dti is dropped\n",
    "# Instead use revolving utilization with installment\n",
    "if 'installment' in df.columns:\n",
    "    df['payment_to_income'] = df['installment'] / (df['annual_inc'] / 12 + 1)\n",
    "    df['installment_rev_ratio'] = df['installment'] / (df['total_rev_hi_lim'] + 1)\n",
    "\n",
    "if 'total_acc' in df.columns and 'credit_history_length' in df.columns:\n",
    "    df['credit_line_age_ratio'] = df['total_acc'] / (df['credit_history_length'] + 1)"
   ]
  },
  {
   "cell_type": "code",
   "execution_count": 51,
   "metadata": {},
   "outputs": [],
   "source": [
    "# 2. Non-linear transformations\n",
    "df['log_annual_inc'] = np.log1p(df['annual_inc'])\n",
    "df['sqrt_total_rev_hi_lim'] = np.sqrt(df['total_rev_hi_lim'])\n",
    "df['int_rate_squared'] = df['int_rate'] ** 2"
   ]
  },
  {
   "cell_type": "code",
   "execution_count": 53,
   "metadata": {},
   "outputs": [],
   "source": [
    "# 3. Domain-specific ratios (only if columns exist)\n",
    "if 'revol_bal' in df.columns:\n",
    "    df['revolving_to_total_bal'] = df['revol_bal'] / (df['tot_cur_bal'] + 1)\n",
    "    \n",
    "df['inquiries_per_credit_year'] = df['inq_last_6mths'] / (df['credit_history_length'] + 1)"
   ]
  },
  {
   "cell_type": "code",
   "execution_count": 55,
   "metadata": {},
   "outputs": [],
   "source": [
    "# 4. Additional features based on available columns\n",
    "if 'pub_rec' in df.columns and 'delinq_2yrs' in df.columns:\n",
    "    df['total_derog'] = df['pub_rec'] + df['delinq_2yrs']\n",
    "    \n",
    "if 'acc_now_delinq' in df.columns:\n",
    "    df['has_current_delinq'] = (df['acc_now_delinq'] > 0).astype(int)"
   ]
  },
  {
   "cell_type": "code",
   "execution_count": 57,
   "metadata": {},
   "outputs": [
    {
     "name": "stdout",
     "output_type": "stream",
     "text": [
      "\n",
      "Created 9 new engineered features\n",
      "New features added:\n",
      "  • income_to_credit_limit\n",
      "  • payment_to_income\n",
      "  • installment_rev_ratio\n",
      "  • credit_line_age_ratio\n",
      "  • log_annual_inc\n",
      "  • sqrt_total_rev_hi_lim\n",
      "  • int_rate_squared\n",
      "  • revolving_to_total_bal\n",
      "  • inquiries_per_credit_year\n",
      "  • total_derog\n",
      "  • has_current_delinq\n"
     ]
    }
   ],
   "source": [
    "# Count features created\n",
    "new_feature_count = df.shape[1] - original_features\n",
    "print(f\"\\nCreated {new_feature_count} new engineered features\")\n",
    "\n",
    "# List the new features that were actually created\n",
    "new_features = []\n",
    "possible_features = ['income_to_credit_limit', 'payment_to_income', 'installment_rev_ratio',\n",
    "                    'credit_line_age_ratio', 'log_annual_inc', 'sqrt_total_rev_hi_lim',\n",
    "                    'int_rate_squared', 'revolving_to_total_bal', 'inquiries_per_credit_year',\n",
    "                    'total_derog', 'has_current_delinq']\n",
    "\n",
    "print(\"New features added:\")\n",
    "for feat in possible_features:\n",
    "    if feat in df.columns:\n",
    "        new_features.append(feat)\n",
    "        print(f\"  • {feat}\")"
   ]
  },
  {
   "cell_type": "markdown",
   "metadata": {},
   "source": [
    "#### 4.1.3 Advanced Feature Engineering Part 2"
   ]
  },
  {
   "cell_type": "code",
   "execution_count": 60,
   "metadata": {},
   "outputs": [],
   "source": [
    "# Advanced Feature Engineering Part 2 - Comprehensive Feature Creation\n",
    "\n",
    "# Store the starting number of features\n",
    "start_features = df.shape[1]"
   ]
  },
  {
   "cell_type": "code",
   "execution_count": 66,
   "metadata": {},
   "outputs": [
    {
     "name": "stdout",
     "output_type": "stream",
     "text": [
      "\n",
      "Creating Domain-Specific Features...\n"
     ]
    }
   ],
   "source": [
    "# 1. DOMAIN-SPECIFIC CREDIT RISK FEATURES\n",
    "print(\"\\nCreating Domain-Specific Features...\")\n",
    "\n",
    "# Credit utilization categories (non-linear risk relationship)\n",
    "if 'revol_util' in df.columns:\n",
    "    df['credit_util_category'] = pd.cut(df['revol_util'], \n",
    "                                        bins=[-np.inf, 0, 30, 50, 70, 90, 100],\n",
    "                                        labels=['no_usage', 'low', 'moderate', 'high', 'very_high', 'maxed_out'])\n",
    "    df['is_credit_maxed'] = (df['revol_util'] > 95).astype(int)\n",
    "    df['is_zero_balance'] = (df['revol_bal'] == 0).astype(int)\n",
    "\n",
    "# Debt concentration\n",
    "if 'installment' in df.columns and 'tot_cur_bal' in df.columns and 'revol_bal' in df.columns:\n",
    "    df['installment_to_total_debt'] = df['installment'] / (df['tot_cur_bal'] + df['revol_bal'] + 1)\n",
    "    df['revolving_debt_ratio'] = df['revol_bal'] / (df['tot_cur_bal'] + 1)\n",
    "\n",
    "# Payment capacity indicators\n",
    "if 'installment' in df.columns and 'annual_inc' in df.columns and 'revol_bal' in df.columns:\n",
    "    df['monthly_debt_service'] = df['installment'] + (df['revol_bal'] * 0.02)  # Assume 2% min payment\n",
    "    df['debt_service_ratio'] = df['monthly_debt_service'] / (df['annual_inc'] / 12 + 1)\n",
    "    df['disposable_income'] = (df['annual_inc'] / 12) - df['installment']\n",
    "    df['payment_buffer'] = df['disposable_income'] / (df['installment'] + 1)"
   ]
  },
  {
   "cell_type": "code",
   "execution_count": 68,
   "metadata": {},
   "outputs": [
    {
     "name": "stdout",
     "output_type": "stream",
     "text": [
      "Creating Behavioral Risk Indicators...\n"
     ]
    }
   ],
   "source": [
    "# 2. BEHAVIORAL RISK INDICATORS\n",
    "print(\"Creating Behavioral Risk Indicators...\")\n",
    "\n",
    "# Credit seeking behavior\n",
    "if 'inq_last_6mths' in df.columns and 'open_acc' in df.columns and 'total_acc' in df.columns:\n",
    "    df['recent_credit_hungry'] = ((df['inq_last_6mths'] > 2) & (df['open_acc'] > df['total_acc'] * 0.7)).astype(int)\n",
    "    df['inquiry_intensity'] = df['inq_last_6mths'] / (df['credit_history_length'] + 1) * 12  # Annualized\n",
    "\n",
    "# Account management patterns\n",
    "if 'open_acc' in df.columns and 'total_acc' in df.columns:\n",
    "    df['account_diversity'] = 1 - (df['open_acc'] / (df['total_acc'] + 1))**2  # Simpson diversity index\n",
    "    df['credit_line_utilization'] = df['tot_cur_bal'] / (df['total_rev_hi_lim'] + 1)\n",
    "    df['avg_account_age'] = df['credit_history_length'] / (df['total_acc'] + 1)\n",
    "\n",
    "# Delinquency patterns\n",
    "if 'pub_rec' in df.columns and 'delinq_2yrs' in df.columns and 'collections_12_mths_ex_med' in df.columns:\n",
    "    df['total_derog_marks'] = df['pub_rec'] + df['delinq_2yrs'] + df['collections_12_mths_ex_med']\n",
    "    df['derog_per_year'] = df['total_derog_marks'] / (df['credit_history_length'] + 1)\n",
    "    df['clean_history'] = (df['total_derog_marks'] == 0).astype(int)"
   ]
  },
  {
   "cell_type": "code",
   "execution_count": 74,
   "metadata": {},
   "outputs": [
    {
     "name": "stdout",
     "output_type": "stream",
     "text": [
      "Creating Advanced Ratios...\n"
     ]
    }
   ],
   "source": [
    "# 3. ADVANCED RATIOS AND TRANSFORMATIONS\n",
    "print(\"Creating Advanced Ratios...\")\n",
    "\n",
    "# Non-linear transformations for key variables\n",
    "df['log_total_rev_hi_lim'] = np.log1p(df['total_rev_hi_lim'])\n",
    "df['sqrt_annual_inc'] = np.sqrt(df['annual_inc'])\n",
    "df['int_rate_cubed'] = df['int_rate'] ** 3\n",
    "df['log_loan_to_inc'] = np.log1p(df['loan_burden'])\n",
    "\n",
    "# Polynomial features for critical predictors\n",
    "if 'revol_util' in df.columns:\n",
    "    df['int_rate_x_loan_burden'] = df['int_rate'] * df['loan_burden']\n",
    "    df['revol_util_squared'] = df['revol_util'] ** 2\n",
    "    df['credit_age_x_inquiries'] = df['credit_history_length'] * df['inq_last_6mths']"
   ]
  },
  {
   "cell_type": "code",
   "execution_count": 78,
   "metadata": {},
   "outputs": [
    {
     "name": "stdout",
     "output_type": "stream",
     "text": [
      "Creating Interaction Features...\n"
     ]
    }
   ],
   "source": [
    "# 4. INTERACTION FEATURES\n",
    "print(\"Creating Interaction Features...\")\n",
    "\n",
    "# Risk multiplication effects\n",
    "df['high_rate_high_burden'] = ((df['int_rate'] > df['int_rate'].quantile(0.75)) & \n",
    "                                (df['loan_burden'] > df['loan_burden'].quantile(0.75))).astype(int)\n",
    "\n",
    "df['low_income_high_debt'] = ((df['annual_inc'] < df['annual_inc'].quantile(0.25)) & \n",
    "                               (df['tot_cur_bal'] > df['tot_cur_bal'].quantile(0.75))).astype(int)\n",
    "\n",
    "# Verification impact\n",
    "if 'verification_status' in df.columns:\n",
    "    df['unverified_high_amount'] = ((df['verification_status'] == 'Not Verified') & \n",
    "                                     (df['loan_burden'] > df['loan_burden'].median())).astype(int)\n",
    "\n"
   ]
  },
  {
   "cell_type": "code",
   "execution_count": 80,
   "metadata": {},
   "outputs": [
    {
     "name": "stdout",
     "output_type": "stream",
     "text": [
      "\n",
      "Created 26 new features in Part 2!\n",
      "Total features now: 75\n"
     ]
    }
   ],
   "source": [
    "# Count features created\n",
    "new_features = df.shape[1] - start_features\n",
    "print(f\"\\nCreated {new_features} new features in Part 2!\")\n",
    "print(f\"Total features now: {df.shape[1]}\")"
   ]
  },
  {
   "cell_type": "markdown",
   "metadata": {},
   "source": [
    "#### 4.1.4 Advanced Feature Engineering Part 3"
   ]
  },
  {
   "cell_type": "code",
   "execution_count": 82,
   "metadata": {},
   "outputs": [
    {
     "name": "stdout",
     "output_type": "stream",
     "text": [
      "Creating Statistical Features...\n"
     ]
    }
   ],
   "source": [
    "# Advanced Feature Engineering Part 3 - Statistical and Composite Features\n",
    "\n",
    "# Store starting features\n",
    "start_features_p3 = df.shape[1]\n",
    "\n",
    "# 1. STATISTICAL FEATURES\n",
    "print(\"Creating Statistical Features...\")\n",
    "\n",
    "# Create percentile ranks for continuous features\n",
    "continuous_features = ['annual_inc', 'int_rate', 'revol_util', 'tot_cur_bal', 'credit_history_length']\n",
    "for feat in continuous_features:\n",
    "    if feat in df.columns:\n",
    "        df[f'{feat}_percentile'] = df[feat].rank(pct=True)\n",
    "\n",
    "# Z-scores for outlier detection\n",
    "for feat in ['annual_inc', 'tot_cur_bal']:\n",
    "    if feat in df.columns:\n",
    "        mean = df[feat].mean()\n",
    "        std = df[feat].std()\n",
    "        df[f'{feat}_zscore'] = np.abs((df[feat] - mean) / std)\n",
    "        df[f'{feat}_is_outlier'] = (df[f'{feat}_zscore'] > 3).astype(int)"
   ]
  },
  {
   "cell_type": "code",
   "execution_count": 84,
   "metadata": {},
   "outputs": [
    {
     "name": "stdout",
     "output_type": "stream",
     "text": [
      "Creating Binned Interactions...\n"
     ]
    }
   ],
   "source": [
    "# 2. BINNED INTERACTIONS\n",
    "print(\"Creating Binned Interactions...\")\n",
    "\n",
    "# Create risk segments based on multiple features\n",
    "df['risk_segment'] = 0\n",
    "df.loc[(df['int_rate'] > df['int_rate'].median()) & \n",
    "       (df['loan_burden'] > df['loan_burden'].median()), 'risk_segment'] = 1\n",
    "df.loc[(df['int_rate'] > df['int_rate'].quantile(0.75)) & \n",
    "       (df['loan_burden'] > df['loan_burden'].quantile(0.75)), 'risk_segment'] = 2\n",
    "\n",
    "# Income-based risk tiers\n",
    "if 'annual_inc' in df.columns and 'int_rate' in df.columns:\n",
    "    income_bins = pd.qcut(df['annual_inc'], q=5, labels=['very_low', 'low', 'medium', 'high', 'very_high'])\n",
    "    rate_bins = pd.qcut(df['int_rate'], q=5, labels=['very_low', 'low', 'medium', 'high', 'very_high'])\n",
    "    df['income_rate_tier'] = income_bins.astype(str) + '_' + rate_bins.astype(str)"
   ]
  },
  {
   "cell_type": "code",
   "execution_count": 86,
   "metadata": {},
   "outputs": [
    {
     "name": "stdout",
     "output_type": "stream",
     "text": [
      "Creating Purpose-Specific Features...\n"
     ]
    }
   ],
   "source": [
    "# 3. PURPOSE-SPECIFIC FEATURES\n",
    "print(\"Creating Purpose-Specific Features...\")\n",
    "\n",
    "if 'purpose' in df.columns:\n",
    "    # High-risk purposes\n",
    "    high_risk_purposes = ['small_business', 'vacation', 'wedding', 'moving']\n",
    "    df['is_high_risk_purpose'] = df['purpose'].isin(high_risk_purposes).astype(int)\n",
    "    \n",
    "    # Debt consolidation specific\n",
    "    df['debt_consolidation_high_rate'] = ((df['purpose'] == 'debt_consolidation') & \n",
    "                                          (df['int_rate'] > df['int_rate'].median())).astype(int)"
   ]
  },
  {
   "cell_type": "code",
   "execution_count": 88,
   "metadata": {},
   "outputs": [
    {
     "name": "stdout",
     "output_type": "stream",
     "text": [
      "Creating Temporal Features...\n"
     ]
    }
   ],
   "source": [
    "# 4.. TEMPORAL PATTERNS\n",
    "print(\"Creating Temporal Features...\")\n",
    "\n",
    "# Credit velocity\n",
    "if 'open_acc' in df.columns and 'credit_history_length' in df.columns:\n",
    "    df['accounts_per_year'] = df['open_acc'] / (df['credit_history_length'] + 1)\n",
    "    df['recent_account_opening_rate'] = df['inq_last_6mths'] / 6  # Monthly rate\n",
    "\n",
    "# Maturity indicators\n",
    "df['is_credit_mature'] = (df['credit_history_length'] > 10).astype(int)\n",
    "df['is_credit_young'] = (df['credit_history_length'] < 3).astype(int)"
   ]
  },
  {
   "cell_type": "code",
   "execution_count": 90,
   "metadata": {},
   "outputs": [
    {
     "name": "stdout",
     "output_type": "stream",
     "text": [
      "Creating Extreme Value Indicators...\n"
     ]
    }
   ],
   "source": [
    "# 5.. EXTREME VALUE INDICATORS\n",
    "print(\"Creating Extreme Value Indicators...\")\n",
    "\n",
    "# Flag extreme values that might indicate risk\n",
    "df['extreme_high_income'] = (df['annual_inc'] > df['annual_inc'].quantile(0.99)).astype(int)\n",
    "df['extreme_low_income'] = (df['annual_inc'] < df['annual_inc'].quantile(0.01)).astype(int)\n",
    "df['extreme_high_debt'] = (df['tot_cur_bal'] > df['tot_cur_bal'].quantile(0.95)).astype(int)"
   ]
  },
  {
   "cell_type": "code",
   "execution_count": 92,
   "metadata": {},
   "outputs": [
    {
     "name": "stdout",
     "output_type": "stream",
     "text": [
      "Creating Composite Risk Scores...\n"
     ]
    }
   ],
   "source": [
    "# 6.. COMPOSITE RISK SCORES\n",
    "print(\"Creating Composite Risk Scores...\")\n",
    "\n",
    "# Create a simple risk score based on multiple factors\n",
    "df['composite_risk_score'] = (\n",
    "    (df['int_rate'] / df['int_rate'].max()) * 0.3 +\n",
    "    (df['loan_burden'] / df['loan_burden'].max()) * 0.2 +\n",
    "    (df['revol_util'] / 100) * 0.2 +\n",
    "    (df['inq_last_6mths'] / df['inq_last_6mths'].max()) * 0.15 +\n",
    "    ((df['delinq_2yrs'] > 0).astype(int)) * 0.15\n",
    ")"
   ]
  },
  {
   "cell_type": "code",
   "execution_count": 94,
   "metadata": {},
   "outputs": [
    {
     "name": "stdout",
     "output_type": "stream",
     "text": [
      "\n",
      "Created 21 new features in Part 3!\n",
      "Total advanced features created: 56\n",
      "Total features now: 96\n",
      "\n",
      "Complete list of advanced features created:\n",
      "  1. income_to_credit_limit\n",
      "  2. installment_rev_ratio\n",
      "  3. credit_line_age_ratio\n",
      "  4. log_annual_inc\n",
      "  5. sqrt_total_rev_hi_lim\n",
      "  6. int_rate_squared\n",
      "  7. revolving_to_total_bal\n",
      "  8. inquiries_per_credit_year\n",
      "  9. has_current_delinq\n",
      " 10. credit_util_category\n",
      " 11. is_credit_maxed\n",
      " 12. is_zero_balance\n",
      " 13. installment_to_total_debt\n",
      " 14. revolving_debt_ratio\n",
      " 15. monthly_debt_service\n",
      " 16. debt_service_ratio\n",
      " 17. disposable_income\n",
      " 18. payment_buffer\n",
      " 19. recent_credit_hungry\n",
      " 20. inquiry_intensity\n",
      " 21. account_diversity\n",
      " 22. credit_line_utilization\n",
      " 23. total_derog_marks\n",
      " 24. derog_per_year\n",
      " 25. clean_history\n",
      " 26. log_total_rev_hi_lim\n",
      " 27. sqrt_annual_inc\n",
      " 28. int_rate_cubed\n",
      " 29. log_loan_to_inc\n",
      " 30. int_rate_x_loan_burden\n",
      " 31. revol_util_squared\n",
      " 32. credit_age_x_inquiries\n",
      " 33. high_rate_high_burden\n",
      " 34. low_income_high_debt\n",
      " 35. unverified_high_amount\n",
      " 36. annual_inc_percentile\n",
      " 37. int_rate_percentile\n",
      " 38. revol_util_percentile\n",
      " 39. tot_cur_bal_percentile\n",
      " 40. credit_history_length_percentile\n",
      " 41. annual_inc_zscore\n",
      " 42. annual_inc_is_outlier\n",
      " 43. tot_cur_bal_zscore\n",
      " 44. tot_cur_bal_is_outlier\n",
      " 45. risk_segment\n",
      " 46. income_rate_tier\n",
      " 47. is_high_risk_purpose\n",
      " 48. debt_consolidation_high_rate\n",
      " 49. accounts_per_year\n",
      " 50. recent_account_opening_rate\n",
      " 51. is_credit_mature\n",
      " 52. is_credit_young\n",
      " 53. extreme_high_income\n",
      " 54. extreme_low_income\n",
      " 55. extreme_high_debt\n",
      " 56. composite_risk_score\n"
     ]
    }
   ],
   "source": [
    "# Count features created\n",
    "new_features_p3 = df.shape[1] - start_features_p3\n",
    "total_advanced_features = df.shape[1] - original_features\n",
    "print(f\"\\nCreated {new_features_p3} new features in Part 3!\")\n",
    "print(f\"Total advanced features created: {total_advanced_features}\")\n",
    "print(f\"Total features now: {df.shape[1]}\")\n",
    "\n",
    "# List all new features created across all parts\n",
    "print(\"\\nComplete list of advanced features created:\")\n",
    "advanced_feature_list = [col for col in df.columns if col not in df.columns[:original_features]]\n",
    "for i, feat in enumerate(advanced_feature_list, 1):\n",
    "    print(f\"{i:3d}. {feat}\")"
   ]
  },
  {
   "cell_type": "markdown",
   "metadata": {},
   "source": [
    "#### 4.1.5 Feature Selection and Imprtance Analysis"
   ]
  },
  {
   "cell_type": "code",
   "execution_count": 98,
   "metadata": {},
   "outputs": [
    {
     "name": "stdout",
     "output_type": "stream",
     "text": [
      "Total numeric features to analyze: 82\n"
     ]
    }
   ],
   "source": [
    "# Feature Selection and Importance Analysis\n",
    "# Calculate Information Value for all new features\n",
    "\n",
    "# Get numeric features only\n",
    "numeric_features = df.select_dtypes(include=[np.number]).columns.tolist()\n",
    "numeric_features = [f for f in numeric_features if f != 'target' and not f.endswith('_bin')]\n",
    "\n",
    "print(f\"Total numeric features to analyze: {len(numeric_features)}\")"
   ]
  },
  {
   "cell_type": "code",
   "execution_count": 100,
   "metadata": {},
   "outputs": [
    {
     "name": "stdout",
     "output_type": "stream",
     "text": [
      "\n",
      "Calculating mutual information scores...\n",
      "\n",
      "Top 30 features by Mutual Information:\n",
      "                         feature  mi_score\n",
      "76              is_credit_mature    0.1522\n",
      "51                 clean_history    0.1442\n",
      "8         mths_since_last_record    0.1144\n",
      "7         mths_since_last_delinq    0.0647\n",
      "26                     has_derog    0.0520\n",
      "73  debt_consolidation_high_rate    0.0493\n",
      "23              high_credit_util    0.0428\n",
      "14               last_pymnt_amnt    0.0391\n",
      "2                       int_rate    0.0298\n",
      "33              int_rate_squared    0.0295\n",
      "63           int_rate_percentile    0.0293\n",
      "54                int_rate_cubed    0.0291\n",
      "6                 inq_last_6mths    0.0284\n",
      "75   recent_account_opening_rate    0.0274\n",
      "71                  risk_segment    0.0186\n",
      "3                    installment    0.0173\n",
      "56        int_rate_x_loan_burden    0.0133\n",
      "9                       open_acc    0.0098\n",
      "0                    funded_amnt    0.0087\n",
      "81          composite_risk_score    0.0086\n",
      "22             payment_to_income    0.0076\n",
      "59         high_rate_high_burden    0.0075\n",
      "49             total_derog_marks    0.0074\n",
      "1                funded_amnt_inv    0.0074\n",
      "25                   total_derog    0.0071\n",
      "44                payment_buffer    0.0071\n",
      "43             disposable_income    0.0066\n",
      "32         sqrt_total_rev_hi_lim    0.0066\n",
      "61        unverified_high_amount    0.0063\n",
      "52          log_total_rev_hi_lim    0.0061\n"
     ]
    }
   ],
   "source": [
    "# Calculate mutual information\n",
    "print(\"\\nCalculating mutual information scores...\")\n",
    "mi_scores = mutual_info_classif(df[numeric_features].fillna(0), df['target'], random_state=42)\n",
    "mi_df = pd.DataFrame({'feature': numeric_features, 'mi_score': mi_scores})\n",
    "mi_df = mi_df.sort_values('mi_score', ascending=False)\n",
    "\n",
    "print(\"\\nTop 30 features by Mutual Information:\")\n",
    "print(mi_df.head(30).to_string())"
   ]
  },
  {
   "cell_type": "code",
   "execution_count": 101,
   "metadata": {},
   "outputs": [
    {
     "name": "stdout",
     "output_type": "stream",
     "text": [
      "\n",
      "Top new engineered features (from top 50):\n",
      " 1. is_credit_mature                    MI Score: 0.1522\n",
      " 2. clean_history                       MI Score: 0.1442\n",
      " 3. mths_since_last_record              MI Score: 0.1144\n",
      " 4. mths_since_last_delinq              MI Score: 0.0647\n",
      " 5. has_derog                           MI Score: 0.0520\n",
      " 6. debt_consolidation_high_rate        MI Score: 0.0493\n",
      " 7. high_credit_util                    MI Score: 0.0428\n",
      " 8. last_pymnt_amnt                     MI Score: 0.0391\n",
      " 9. int_rate_squared                    MI Score: 0.0295\n",
      "10. int_rate_percentile                 MI Score: 0.0293\n",
      "11. int_rate_cubed                      MI Score: 0.0291\n",
      "12. recent_account_opening_rate         MI Score: 0.0274\n",
      "13. risk_segment                        MI Score: 0.0186\n",
      "14. int_rate_x_loan_burden              MI Score: 0.0133\n",
      "15. composite_risk_score                MI Score: 0.0086\n",
      "16. payment_to_income                   MI Score: 0.0076\n",
      "17. high_rate_high_burden               MI Score: 0.0075\n",
      "18. total_derog_marks                   MI Score: 0.0074\n",
      "19. total_derog                         MI Score: 0.0071\n",
      "20. payment_buffer                      MI Score: 0.0071\n"
     ]
    }
   ],
   "source": [
    "# Select top features\n",
    "top_features = mi_df.head(50)['feature'].tolist()\n",
    "\n",
    "# Identify which are new features vs original\n",
    "original_features_list = ['loan_amnt', 'funded_amnt', 'funded_amnt_inv', 'int_rate', 'installment', \n",
    "                         'grade', 'sub_grade', 'emp_length', 'home_ownership', 'annual_inc', \n",
    "                         'verification_status', 'purpose', 'dti', 'delinq_2yrs', 'inq_last_6mths', \n",
    "                         'open_acc', 'pub_rec', 'revol_bal', 'revol_util', 'total_acc', \n",
    "                         'total_pymnt', 'total_pymnt_inv', 'total_rec_prncp', 'total_rec_int', \n",
    "                         'total_rec_late_fee', 'recoveries', 'collection_recovery_fee', \n",
    "                         'collections_12_mths_ex_med', 'acc_now_delinq', 'tot_coll_amt', \n",
    "                         'tot_cur_bal', 'total_rev_hi_lim', 'credit_history_length', 'loan_burden']\n",
    "\n",
    "new_top_features = [f for f in top_features if f not in original_features_list]\n",
    "\n",
    "print(f\"\\nTop new engineered features (from top 50):\")\n",
    "for i, feat in enumerate(new_top_features[:20], 1):\n",
    "    score = mi_df[mi_df['feature'] == feat]['mi_score'].values[0]\n",
    "    print(f\"{i:2d}. {feat:<35} MI Score: {score:.4f}\")"
   ]
  },
  {
   "cell_type": "code",
   "execution_count": 102,
   "metadata": {},
   "outputs": [
    {
     "name": "stdout",
     "output_type": "stream",
     "text": [
      "\n",
      "Updating features to bin...\n",
      "Adding 15 high-value engineered features to binning list\n"
     ]
    }
   ],
   "source": [
    "# Update features_to_bin with the most important new features\n",
    "print(\"\\nUpdating features to bin...\")\n",
    "important_new_features_to_bin = [f for f in new_top_features[:15] if f in df.columns]\n",
    "print(f\"Adding {len(important_new_features_to_bin)} high-value engineered features to binning list\")\n",
    "\n",
    "\n",
    "additional_features_for_binning = important_new_features_to_bin"
   ]
  },
  {
   "cell_type": "markdown",
   "metadata": {},
   "source": [
    "### 4.2 Feature Binning and WOE Transformation"
   ]
  },
  {
   "cell_type": "code",
   "execution_count": 104,
   "metadata": {},
   "outputs": [],
   "source": [
    "def decision_tree_binning(X, y, max_leaf_nodes=5, min_samples_leaf=0.05):\n",
    "    \"\"\"Create optimal bins using decision tree splits\"\"\"\n",
    "    X_reshaped = X.values.reshape(-1, 1)\n",
    "    tree = DecisionTreeClassifier(\n",
    "        criterion='entropy',\n",
    "        max_leaf_nodes=max_leaf_nodes,\n",
    "        min_samples_leaf=min_samples_leaf,\n",
    "        random_state=42\n",
    "    )\n",
    "    tree.fit(X_reshaped, y)\n",
    "    \n",
    "    thresholds = tree.tree_.threshold[tree.tree_.threshold != -2]\n",
    "    bins = [-np.inf] + sorted(thresholds.tolist()) + [np.inf]\n",
    "    return bins"
   ]
  },
  {
   "cell_type": "code",
   "execution_count": 105,
   "metadata": {},
   "outputs": [],
   "source": [
    "def calc_woe_iv(df, feature_col, target_col='target'):\n",
    "    \"\"\"Calculate Weight of Evidence and Information Value\"\"\"\n",
    "    grouped = df.groupby(feature_col)[target_col].agg(['count', 'sum'])\n",
    "    grouped.columns = ['total', 'bad']\n",
    "    grouped['good'] = grouped['total'] - grouped['bad']\n",
    "    \n",
    "    dist_good = grouped['good'] / grouped['good'].sum()\n",
    "    dist_bad = grouped['bad'] / grouped['bad'].sum()\n",
    "    \n",
    "    grouped['woe'] = np.log((dist_good + 1e-6) / (dist_bad + 1e-6))\n",
    "    grouped['iv'] = (dist_good - dist_bad) * grouped['woe']\n",
    "    \n",
    "    woe_dict = grouped['woe'].to_dict()\n",
    "    iv_score = grouped['iv'].sum()\n",
    "    \n",
    "    return woe_dict, iv_score"
   ]
  },
  {
   "cell_type": "code",
   "execution_count": 106,
   "metadata": {},
   "outputs": [],
   "source": [
    "# Feature Binning and WOE Transformation with Advanced Features\n",
    "\n",
    "# Select features for binning\n",
    "numeric_features = df.select_dtypes(include=[np.number]).columns.tolist()\n",
    "numeric_features = [f for f in numeric_features if f != 'target' and not f.endswith('_bin') and not f.endswith('_woe')]\n",
    "\n",
    "# Original features to bin\n",
    "original_features_to_bin = [\n",
    "    'annual_inc', 'int_rate', 'credit_history_length', 'total_rev_hi_lim',\n",
    "    'revol_util', 'tot_cur_bal', 'loan_burden', 'open_acc', \n",
    "    'mths_since_last_record', 'mths_since_last_delinq'\n",
    "]\n",
    "\n",
    "# Add the new engineered features from sections 4.1.2-4.1.4\n",
    "engineered_features_to_bin = [\n",
    "    'income_to_credit_limit', 'payment_to_income', 'installment_rev_ratio',\n",
    "    'credit_line_age_ratio', 'log_annual_inc', 'sqrt_total_rev_hi_lim',\n",
    "    'int_rate_squared', 'revolving_to_total_bal', 'inquiries_per_credit_year',\n",
    "    'monthly_debt_service', 'debt_service_ratio', 'payment_buffer',\n",
    "    'inquiry_intensity', 'account_diversity', 'credit_line_utilization',\n",
    "    'derog_per_year', 'int_rate_cubed', 'log_loan_to_inc',\n",
    "    'int_rate_x_loan_burden', 'composite_risk_score'\n",
    "]\n"
   ]
  },
  {
   "cell_type": "code",
   "execution_count": 107,
   "metadata": {},
   "outputs": [
    {
     "name": "stdout",
     "output_type": "stream",
     "text": [
      "Total features to bin: 39\n",
      "  - Original features: 10\n",
      "  - Engineered features: 29\n"
     ]
    }
   ],
   "source": [
    "# Add the top features identified by mutual information (if available)\n",
    "if 'additional_features_for_binning' in locals():\n",
    "    engineered_features_to_bin.extend(additional_features_for_binning)\n",
    "\n",
    "# Combine all features and remove duplicates\n",
    "all_features_to_bin = list(set(original_features_to_bin + engineered_features_to_bin))\n",
    "features_to_bin = [f for f in all_features_to_bin if f in df.columns]\n",
    "\n",
    "print(f\"Total features to bin: {len(features_to_bin)}\")\n",
    "print(f\"  - Original features: {len([f for f in original_features_to_bin if f in df.columns])}\")\n",
    "print(f\"  - Engineered features: {len([f for f in features_to_bin if f not in original_features_to_bin])}\")"
   ]
  },
  {
   "cell_type": "code",
   "execution_count": 108,
   "metadata": {},
   "outputs": [
    {
     "name": "stdout",
     "output_type": "stream",
     "text": [
      "\n",
      "Categorical features for WOE: 7\n"
     ]
    }
   ],
   "source": [
    "# Categorical features for WOE\n",
    "categorical_features = ['term', 'home_ownership', 'purpose', 'emp_length', 'verification_status']\n",
    "categorical_features = [f for f in categorical_features if f in df.columns]\n",
    "\n",
    "# Also add any categorical engineered features\n",
    "categorical_engineered = ['credit_util_category', 'income_rate_tier']\n",
    "categorical_features.extend([f for f in categorical_engineered if f in df.columns])\n",
    "\n",
    "print(f\"\\nCategorical features for WOE: {len(categorical_features)}\")"
   ]
  },
  {
   "cell_type": "code",
   "execution_count": 109,
   "metadata": {},
   "outputs": [
    {
     "name": "stdout",
     "output_type": "stream",
     "text": [
      "\n",
      "Applying binning and WOE transformation...\n"
     ]
    }
   ],
   "source": [
    "# Apply binning and WOE transformation\n",
    "print(\"\\nApplying binning and WOE transformation...\")\n",
    "woe_iv_summary = []"
   ]
  },
  {
   "cell_type": "code",
   "execution_count": 110,
   "metadata": {},
   "outputs": [
    {
     "name": "stdout",
     "output_type": "stream",
     "text": [
      "✓ int_rate_squared: IV = 0.5026\n",
      "✓ int_rate_percentile: IV = 0.5026\n",
      "✓ payment_buffer: IV = 0.0711\n",
      "✓ credit_history_length: IV = 0.0447\n",
      "✓ debt_consolidation_high_rate: IV = 0.1299\n",
      "✓ last_pymnt_amnt: IV = 0.7853\n",
      "✓ installment_rev_ratio: IV = 0.0429\n",
      "✓ inquiries_per_credit_year: IV = 0.1039\n",
      "✓ sqrt_total_rev_hi_lim: IV = 0.1483\n",
      "✓ int_rate: IV = 0.5026\n",
      "✓ revol_util: IV = 0.0353\n",
      "✓ risk_segment: IV = 0.1699\n",
      "✓ inquiry_intensity: IV = 0.1039\n",
      "✓ high_credit_util: IV = 0.0225\n",
      "✓ int_rate_x_loan_burden: IV = 0.2108\n",
      "✓ tot_cur_bal: IV = 0.1340\n",
      "✓ composite_risk_score: IV = 0.2001\n",
      "✓ log_annual_inc: IV = 0.0539\n",
      "✓ credit_line_utilization: IV = 0.1126\n",
      "✓ int_rate_cubed: IV = 0.5026\n",
      "✓ annual_inc: IV = 0.0539\n",
      "✓ loan_burden: IV = 0.0470\n",
      "✓ log_loan_to_inc: IV = 0.0470\n",
      "✓ recent_account_opening_rate: IV = 0.0882\n",
      "✓ total_rev_hi_lim: IV = 0.1483\n",
      "✓ is_credit_mature: IV = 0.0206\n",
      "✓ payment_to_income: IV = 0.0709\n",
      "✓ debt_service_ratio: IV = 0.0429\n",
      "\n",
      "Successfully binned 39/39 numeric features\n"
     ]
    }
   ],
   "source": [
    "# 1. Apply binning and WOE to numeric features\n",
    "successful_bins = 0\n",
    "for feature in features_to_bin:\n",
    "    try:\n",
    "        # Create bins using decision tree\n",
    "        bins = decision_tree_binning(df[feature], df['target'])\n",
    "        df[f'{feature}_bin'] = pd.cut(df[feature], bins=bins, duplicates='drop')\n",
    "        \n",
    "        # Calculate WOE\n",
    "        woe_dict, iv_score = calc_woe_iv(df, f'{feature}_bin', 'target')\n",
    "        df[f'{feature}_woe'] = df[f'{feature}_bin'].map(woe_dict)\n",
    "        \n",
    "        woe_iv_summary.append({'feature': feature, 'iv': iv_score, 'type': 'numeric'})\n",
    "        successful_bins += 1\n",
    "        \n",
    "        # Only print for features with good IV\n",
    "        if iv_score > 0.02:\n",
    "            print(f\"✓ {feature}: IV = {iv_score:.4f}\")\n",
    "    except Exception as e:\n",
    "        if 'mths_since' not in feature:  # Don't print errors for expected missing features\n",
    "            print(f\"✗ {feature}: Failed - {str(e)[:50]}...\")\n",
    "\n",
    "print(f\"\\nSuccessfully binned {successful_bins}/{len(features_to_bin)} numeric features\")"
   ]
  },
  {
   "cell_type": "code",
   "execution_count": 120,
   "metadata": {},
   "outputs": [
    {
     "name": "stdout",
     "output_type": "stream",
     "text": [
      "✓ term: IV = 0.0212\n",
      "✓ home_ownership: IV = 0.0222\n",
      "✓ purpose: IV = 0.0497\n",
      "✓ verification_status: IV = 0.0352\n",
      "✓ credit_util_category: IV = 0.0357\n",
      "✓ income_rate_tier: IV = 0.5108\n",
      "\n",
      "Successfully processed 7/7 categorical features\n"
     ]
    }
   ],
   "source": [
    "# 2. Apply WOE to categorical features\n",
    "successful_cat = 0\n",
    "for feature in categorical_features:\n",
    "    try:\n",
    "        woe_dict, iv_score = calc_woe_iv(df, feature, 'target')\n",
    "        df[f'{feature}_woe'] = df[feature].map(woe_dict)\n",
    "        \n",
    "        woe_iv_summary.append({'feature': feature, 'iv': iv_score, 'type': 'categorical'})\n",
    "        successful_cat += 1\n",
    "        \n",
    "        if iv_score > 0.02:\n",
    "            print(f\"✓ {feature}: IV = {iv_score:.4f}\")\n",
    "    except Exception as e:\n",
    "        print(f\"✗ {feature}: Failed - {str(e)[:50]}...\")\n",
    "\n",
    "print(f\"\\nSuccessfully processed {successful_cat}/{len(categorical_features)} categorical features\")"
   ]
  },
  {
   "cell_type": "code",
   "execution_count": 125,
   "metadata": {},
   "outputs": [
    {
     "name": "stdout",
     "output_type": "stream",
     "text": [
      "\n",
      "Top 20 features by Information Value:\n",
      "                         feature     iv         type\n",
      "9                last_pymnt_amnt 0.7853      numeric\n",
      "45              income_rate_tier 0.5108  categorical\n",
      "2               int_rate_squared 0.5026      numeric\n",
      "3            int_rate_percentile 0.5026      numeric\n",
      "29                int_rate_cubed 0.5026      numeric\n",
      "17                      int_rate 0.5026      numeric\n",
      "23        int_rate_x_loan_burden 0.2108      numeric\n",
      "26          composite_risk_score 0.2001      numeric\n",
      "19                  risk_segment 0.1699      numeric\n",
      "16         sqrt_total_rev_hi_lim 0.1483      numeric\n",
      "34              total_rev_hi_lim 0.1483      numeric\n",
      "25                   tot_cur_bal 0.1340      numeric\n",
      "7   debt_consolidation_high_rate 0.1299      numeric\n",
      "28       credit_line_utilization 0.1126      numeric\n",
      "13     inquiries_per_credit_year 0.1039      numeric\n",
      "21             inquiry_intensity 0.1039      numeric\n",
      "33   recent_account_opening_rate 0.0882      numeric\n",
      "5                 payment_buffer 0.0711      numeric\n",
      "36             payment_to_income 0.0709      numeric\n",
      "27                log_annual_inc 0.0539      numeric\n"
     ]
    }
   ],
   "source": [
    "# Create IV summary sorted by importance\n",
    "iv_df = pd.DataFrame(woe_iv_summary).sort_values('iv', ascending=False)\n",
    "print(f\"\\nTop 20 features by Information Value:\")\n",
    "print(iv_df.head(20).to_string())"
   ]
  },
  {
   "cell_type": "code",
   "execution_count": 127,
   "metadata": {},
   "outputs": [
    {
     "name": "stdout",
     "output_type": "stream",
     "text": [
      "\n",
      "IV Distribution:\n",
      "  - Strong predictors (IV > 0.3): 6\n",
      "  - Good predictors (IV > 0.1): 16\n",
      "  - Weak predictors (IV > 0.02): 34\n",
      "  - Very weak (IV <= 0.02): 12\n",
      "\n",
      "Total WOE features created: 46\n",
      "\n",
      "Feature Engineering completed in 18.23 seconds\n"
     ]
    }
   ],
   "source": [
    "# Summary statistics\n",
    "print(f\"\\nIV Distribution:\")\n",
    "print(f\"  - Strong predictors (IV > 0.3): {len(iv_df[iv_df['iv'] > 0.3])}\")\n",
    "print(f\"  - Good predictors (IV > 0.1): {len(iv_df[iv_df['iv'] > 0.1])}\")\n",
    "print(f\"  - Weak predictors (IV > 0.02): {len(iv_df[iv_df['iv'] > 0.02])}\")\n",
    "print(f\"  - Very weak (IV <= 0.02): {len(iv_df[iv_df['iv'] <= 0.02])}\")\n",
    "\n",
    "# Store for later use\n",
    "woe_features_created = [col for col in df.columns if col.endswith('_woe')]\n",
    "print(f\"\\nTotal WOE features created: {len(woe_features_created)}\")\n",
    "\n",
    "section_start = print_section_time(\"Feature Engineering\", section_start)"
   ]
  },
  {
   "cell_type": "markdown",
   "metadata": {},
   "source": [
    "## 5. Model Development\n",
    "\n",
    "### 5.1 Prepare Data for Modeling"
   ]
  },
  {
   "cell_type": "code",
   "execution_count": 130,
   "metadata": {},
   "outputs": [
    {
     "name": "stdout",
     "output_type": "stream",
     "text": [
      "Total WOE features available: 46\n"
     ]
    }
   ],
   "source": [
    "# Prepare Data for Modeling (Updated for Advanced Features)\n",
    "section_start = time.time()\n",
    "\n",
    "# Get all WOE features\n",
    "all_woe_features = [col for col in df.columns if col.endswith('_woe')]\n",
    "print(f\"Total WOE features available: {len(all_woe_features)}\")"
   ]
  },
  {
   "cell_type": "code",
   "execution_count": 132,
   "metadata": {},
   "outputs": [],
   "source": [
    "# Select features based on IV threshold\n",
    "# With more features, we can be more selective\n",
    "min_iv_threshold = 0.02\n",
    "strong_iv_threshold = 0.1"
   ]
  },
  {
   "cell_type": "code",
   "execution_count": 134,
   "metadata": {},
   "outputs": [
    {
     "name": "stdout",
     "output_type": "stream",
     "text": [
      "\n",
      "Feature selection by IV:\n",
      "  - Strong features (IV >= 0.1): 16\n",
      "  - Good features (0.02 <= IV < 0.1): 18\n",
      "\n",
      "Selected 30 features for modeling\n",
      "\n",
      "Top 10 selected features by IV:\n",
      " 1. last_pymnt_amnt                     IV: 0.7853\n",
      " 2. income_rate_tier                    IV: 0.5108\n",
      " 3. int_rate_squared                    IV: 0.5026\n",
      " 4. int_rate_percentile                 IV: 0.5026\n",
      " 5. int_rate_cubed                      IV: 0.5026\n",
      " 6. int_rate                            IV: 0.5026\n",
      " 7. int_rate_x_loan_burden              IV: 0.2108\n",
      " 8. composite_risk_score                IV: 0.2001\n",
      " 9. risk_segment                        IV: 0.1699\n",
      "10. sqrt_total_rev_hi_lim               IV: 0.1483\n"
     ]
    }
   ],
   "source": [
    "# Get IV scores for all features (from iv_df created in section 4.2)\n",
    "if 'iv_df' in locals():\n",
    "    # Filter features by IV\n",
    "    strong_features = iv_df[iv_df['iv'] >= strong_iv_threshold]['feature'].tolist()\n",
    "    good_features = iv_df[(iv_df['iv'] >= min_iv_threshold) & (iv_df['iv'] < strong_iv_threshold)]['feature'].tolist()\n",
    "    \n",
    "    print(f\"\\nFeature selection by IV:\")\n",
    "    print(f\"  - Strong features (IV >= {strong_iv_threshold}): {len(strong_features)}\")\n",
    "    print(f\"  - Good features ({min_iv_threshold} <= IV < {strong_iv_threshold}): {len(good_features)}\")\n",
    "    \n",
    "    # Select top features - prioritize strong features, then add good ones\n",
    "    selected_features = strong_features.copy()\n",
    "    \n",
    "    # Add good features up to a maximum total (to avoid overfitting)\n",
    "    max_features = 30  # Adjust based on your needs\n",
    "    remaining_slots = max_features - len(selected_features)\n",
    "    if remaining_slots > 0:\n",
    "        selected_features.extend(good_features[:remaining_slots])\n",
    "    \n",
    "    print(f\"\\nSelected {len(selected_features)} features for modeling\")\n",
    "    \n",
    "    # Get corresponding WOE feature names\n",
    "    woe_features = [f'{f}_woe' for f in selected_features if f'{f}_woe' in df.columns]\n",
    "    \n",
    "    # Print top 10 selected features\n",
    "    print(\"\\nTop 10 selected features by IV:\")\n",
    "    for i, feat in enumerate(selected_features[:10]):\n",
    "        iv_score = iv_df[iv_df['feature'] == feat]['iv'].values[0]\n",
    "        print(f\"{i+1:2d}. {feat:<35} IV: {iv_score:.4f}\")\n",
    "else:\n",
    "    # Fallback if iv_df doesn't exist\n",
    "    print(\"Warning: iv_df not found, using all WOE features\")\n",
    "    woe_features = all_woe_features"
   ]
  },
  {
   "cell_type": "code",
   "execution_count": 138,
   "metadata": {},
   "outputs": [],
   "source": [
    "# Prepare data - Convert to numeric first\n",
    "X = df[woe_features].copy()\n",
    "\n",
    "# Convert all columns to numeric (in case any are still categorical)\n",
    "for col in X.columns:\n",
    "    X[col] = pd.to_numeric(X[col], errors='coerce')\n",
    "\n",
    "# Now fill NaN values\n",
    "X = X.fillna(0)\n",
    "\n",
    "y = df['target']"
   ]
  },
  {
   "cell_type": "code",
   "execution_count": 144,
   "metadata": {},
   "outputs": [
    {
     "name": "stdout",
     "output_type": "stream",
     "text": [
      "\n",
      "Data split:\n",
      "Training set: 610,866 samples\n",
      "Test set: 261,800 samples\n",
      "Features: 30\n",
      "\n",
      "Data Preparation completed in 9.97 seconds\n"
     ]
    }
   ],
   "source": [
    "# Train-test split\n",
    "X_train, X_test, y_train, y_test = train_test_split(\n",
    "    X, y, test_size=0.3, random_state=42, stratify=y\n",
    ")\n",
    "\n",
    "print(f\"\\nData split:\")\n",
    "print(f\"Training set: {X_train.shape[0]:,} samples\")\n",
    "print(f\"Test set: {X_test.shape[0]:,} samples\")\n",
    "print(f\"Features: {X_train.shape[1]}\")\n",
    "\n",
    "# Save feature names for later use\n",
    "final_woe_features = woe_features\n",
    "\n",
    "section_end = print_section_time(\"Data Preparation\", section_start)"
   ]
  },
  {
   "cell_type": "code",
   "execution_count": 165,
   "metadata": {},
   "outputs": [
    {
     "name": "stdout",
     "output_type": "stream",
     "text": [
      "\n",
      "Preparing data for tree-based models...\n",
      "Total features for tree models: 89\n",
      "Tree model training set: (610866, 89)\n",
      "Tree model test set: (261800, 89)\n"
     ]
    }
   ],
   "source": [
    "# Section 5.1.1 - Prepare Data for Tree-Based Models\n",
    "print(\"\\nPreparing data for tree-based models...\")\n",
    "\n",
    "# For tree models, use original features, not WOE\n",
    "# Select numeric features\n",
    "numeric_features_original = df.select_dtypes(include=[np.number]).columns.tolist()\n",
    "numeric_features_original = [f for f in numeric_features_original if f != 'target' and not f.endswith('_woe') and not f.endswith('_bin')]\n",
    "\n",
    "# Select categorical features\n",
    "categorical_features_original = ['term', 'home_ownership', 'purpose', 'emp_length', 'verification_status', 'grade', 'sub_grade']\n",
    "categorical_features_original = [f for f in categorical_features_original if f in df.columns]\n",
    "\n",
    "# Encode categorical features for tree models\n",
    "from sklearn.preprocessing import LabelEncoder\n",
    "df_tree = df.copy()\n",
    "label_encoders = {}\n",
    "\n",
    "for cat_col in categorical_features_original:\n",
    "    if cat_col in df_tree.columns:\n",
    "        le = LabelEncoder()\n",
    "        df_tree[cat_col + '_encoded'] = le.fit_transform(df_tree[cat_col].astype(str))\n",
    "        label_encoders[cat_col] = le\n",
    "        numeric_features_original.append(cat_col + '_encoded')\n",
    "\n",
    "# Combine all features for tree models\n",
    "tree_features = [f for f in numeric_features_original if f in df_tree.columns]\n",
    "print(f\"Total features for tree models: {len(tree_features)}\")\n",
    "\n",
    "# Prepare tree model data\n",
    "X_tree = df_tree[tree_features].fillna(0)\n",
    "y_tree = df_tree['target']\n",
    "\n",
    "# Split for tree models\n",
    "X_train_tree, X_test_tree, y_train_tree, y_test_tree = train_test_split(\n",
    "    X_tree, y_tree, test_size=0.3, random_state=42, stratify=y_tree\n",
    ")\n",
    "\n",
    "print(f\"Tree model training set: {X_train_tree.shape}\")\n",
    "print(f\"Tree model test set: {X_test_tree.shape}\")"
   ]
  },
  {
   "cell_type": "markdown",
   "metadata": {},
   "source": [
    "### 5.2 Logistic Regression (Primary Model)"
   ]
  },
  {
   "cell_type": "code",
   "execution_count": 146,
   "metadata": {},
   "outputs": [
    {
     "name": "stdout",
     "output_type": "stream",
     "text": [
      "Logistic Regression Performance:\n",
      "AUC: 0.7874\n"
     ]
    }
   ],
   "source": [
    "# Train logistic regression\n",
    "lr_model = LogisticRegression(random_state=42, max_iter=1000)\n",
    "lr_model.fit(X_train, y_train)\n",
    "\n",
    "# Predictions\n",
    "lr_pred_proba = lr_model.predict_proba(X_test)[:, 1]\n",
    "lr_auc = roc_auc_score(y_test, lr_pred_proba)\n",
    "\n",
    "print(f\"Logistic Regression Performance:\")\n",
    "print(f\"AUC: {lr_auc:.4f}\")"
   ]
  },
  {
   "cell_type": "code",
   "execution_count": 148,
   "metadata": {},
   "outputs": [
    {
     "name": "stdout",
     "output_type": "stream",
     "text": [
      "\n",
      "🔝 Top 5 Most Important Features:\n",
      "                        feature  coefficient\n",
      "0           last_pymnt_amnt_woe      -1.0423\n",
      "13  credit_line_utilization_woe      -0.8828\n",
      "25       debt_service_ratio_woe      -0.7676\n",
      "23              loan_burden_woe       0.6752\n",
      "22          log_loan_to_inc_woe       0.6752\n"
     ]
    }
   ],
   "source": [
    "# Feature importance (coefficients)\n",
    "feature_importance = pd.DataFrame({\n",
    "    'feature': woe_features,\n",
    "    'coefficient': lr_model.coef_[0]\n",
    "}).sort_values('coefficient', key=abs, ascending=False)\n",
    "\n",
    "print(\"\\n🔝 Top 5 Most Important Features:\")\n",
    "print(feature_importance.head())"
   ]
  },
  {
   "cell_type": "markdown",
   "metadata": {},
   "source": [
    "### 5.3 Advanced ML Models (Optional)"
   ]
  },
  {
   "cell_type": "code",
   "execution_count": 151,
   "metadata": {},
   "outputs": [
    {
     "name": "stdout",
     "output_type": "stream",
     "text": [
      "\n",
      "🌲 Training Gradient Boosting...\n",
      "Gradient Boosting AUC: 0.7958\n"
     ]
    }
   ],
   "source": [
    "## Gradient Boost, LGBM and XGBoost\n",
    "\n",
    "model_results = {\n",
    "    'Logistic Regression': {'auc': lr_auc, 'predictions': lr_pred_proba}\n",
    "}\n",
    "\n",
    "# Gradient Boosting\n",
    "print(\"\\nTraining Gradient Boosting...\")\n",
    "try:\n",
    "    gb_model = GradientBoostingClassifier(\n",
    "        n_estimators=100,\n",
    "        learning_rate=0.1,\n",
    "        max_depth=4,\n",
    "        random_state=42\n",
    "    )\n",
    "    gb_model.fit(X_train, y_train)\n",
    "    gb_pred_proba = gb_model.predict_proba(X_test)[:, 1]\n",
    "    gb_auc = roc_auc_score(y_test, gb_pred_proba)\n",
    "    model_results['Gradient Boosting'] = {'auc': gb_auc, 'predictions': gb_pred_proba}\n",
    "    print(f\"Gradient Boosting AUC: {gb_auc:.4f}\")\n",
    "except Exception as e:\n",
    "    print(f\"Gradient Boosting failed: {str(e)[:100]}...\")"
   ]
  },
  {
   "cell_type": "code",
   "execution_count": 152,
   "metadata": {},
   "outputs": [
    {
     "name": "stdout",
     "output_type": "stream",
     "text": [
      "\n",
      "Training LightGBM...\n",
      "LightGBM AUC: 0.7989\n"
     ]
    }
   ],
   "source": [
    "# LightGBM (if available)\n",
    "if LIGHTGBM_AVAILABLE:\n",
    "    print(\"\\nTraining LightGBM...\")\n",
    "    try:\n",
    "        # Ensure data is numeric for LightGBM\n",
    "        X_train_lgb = X_train.astype(float)\n",
    "        X_test_lgb = X_test.astype(float)\n",
    "        \n",
    "        lgb_model = lgb.LGBMClassifier(\n",
    "            n_estimators=100,\n",
    "            learning_rate=0.1,\n",
    "            num_leaves=31,\n",
    "            random_state=42,\n",
    "            verbosity=-1\n",
    "        )\n",
    "        lgb_model.fit(X_train_lgb, y_train)\n",
    "        lgb_pred_proba = lgb_model.predict_proba(X_test_lgb)[:, 1]\n",
    "        lgb_auc = roc_auc_score(y_test, lgb_pred_proba)\n",
    "        model_results['LightGBM'] = {'auc': lgb_auc, 'predictions': lgb_pred_proba}\n",
    "        print(f\"LightGBM AUC: {lgb_auc:.4f}\")\n",
    "    except Exception as e:\n",
    "        print(f\"LightGBM failed: {str(e)[:100]}...\")"
   ]
  },
  {
   "cell_type": "code",
   "execution_count": 153,
   "metadata": {},
   "outputs": [
    {
     "name": "stdout",
     "output_type": "stream",
     "text": [
      "\n",
      "Training XGBoost...\n",
      "XGBoost AUC: 0.7958\n",
      "\n",
      "Model Development completed in 122.78 seconds\n"
     ]
    }
   ],
   "source": [
    "# XGBoost (if available)\n",
    "if XGBOOST_AVAILABLE:\n",
    "    print(\"\\nTraining XGBoost...\")\n",
    "    try:\n",
    "        # Ensure data is numeric for XGBoost\n",
    "        X_train_xgb = X_train.astype(float)\n",
    "        X_test_xgb = X_test.astype(float)\n",
    "        \n",
    "        # Create XGBoost model without enable_categorical\n",
    "        xgb_model = XGBClassifier(\n",
    "            n_estimators=100,\n",
    "            learning_rate=0.1,\n",
    "            max_depth=4,\n",
    "            random_state=42,\n",
    "            use_label_encoder=False,\n",
    "            eval_metric='logloss'\n",
    "        )\n",
    "        xgb_model.fit(X_train_xgb, y_train)\n",
    "        xgb_pred_proba = xgb_model.predict_proba(X_test_xgb)[:, 1]\n",
    "        xgb_auc = roc_auc_score(y_test, xgb_pred_proba)\n",
    "        model_results['XGBoost'] = {'auc': xgb_auc, 'predictions': xgb_pred_proba}\n",
    "        print(f\"XGBoost AUC: {xgb_auc:.4f}\")\n",
    "    except Exception as e:\n",
    "        print(f\"XGBoost failed: {str(e)[:100]}...\")\n",
    "\n",
    "section_end = print_section_time(\"Model Development\", section_start)"
   ]
  },
  {
   "cell_type": "code",
   "execution_count": 171,
   "metadata": {},
   "outputs": [
    {
     "name": "stdout",
     "output_type": "stream",
     "text": [
      "\n",
      "Training LightGBM...\n",
      "LightGBM AUC: 0.8282\n"
     ]
    }
   ],
   "source": [
    "# Alternate LGBM implementation\n",
    "model_results = {\n",
    "    'Logistic Regression': {'auc': lr_auc, 'predictions': lr_pred_proba}\n",
    "}\n",
    "\n",
    "\n",
    "# LightGBM (if available) - using original features\n",
    "if LIGHTGBM_AVAILABLE:\n",
    "    print(\"\\nTraining LightGBM...\")\n",
    "    try:\n",
    "        lgb_model = lgb.LGBMClassifier(\n",
    "            n_estimators=300,\n",
    "            learning_rate=0.07,\n",
    "            num_leaves=64,\n",
    "            max_depth=2,\n",
    "            min_child_samples=60,\n",
    "            subsample=0.5,\n",
    "            colsample_bytree=0.6,\n",
    "            random_state=42,\n",
    "            verbosity=-1\n",
    "        )\n",
    "        lgb_model.fit(X_train_tree, y_train_tree)\n",
    "        lgb_pred_proba = lgb_model.predict_proba(X_test_tree)[:, 1]\n",
    "        lgb_auc = roc_auc_score(y_test_tree, lgb_pred_proba)\n",
    "        model_results['LightGBM'] = {'auc': lgb_auc, 'predictions': lgb_pred_proba}\n",
    "        print(f\"LightGBM AUC: {lgb_auc:.4f}\")\n",
    "    except Exception as e:\n",
    "        print(f\"LightGBM failed: {str(e)[:100]}...\")"
   ]
  },
  {
   "cell_type": "markdown",
   "metadata": {},
   "source": [
    "### 5.4 Hyperparameter Tuning for ML Models"
   ]
  },
  {
   "cell_type": "markdown",
   "metadata": {},
   "source": [
    "#### 5.4.1. LGBM Hyperparameter Tuning"
   ]
  },
  {
   "cell_type": "code",
   "execution_count": 175,
   "metadata": {},
   "outputs": [
    {
     "name": "stdout",
     "output_type": "stream",
     "text": [
      "Starting LightGBM hyperparameter search...\n",
      "Testing 8 parameter combinations with 3-fold CV\n"
     ]
    }
   ],
   "source": [
    "if LIGHTGBM_AVAILABLE:   \n",
    "    # Matching original notebook parameters exactly\n",
    "    lgb_param_grid = {\n",
    "        \"n_estimators\": [300],\n",
    "        \"learning_rate\": [0.065, 0.07],\n",
    "        \"num_leaves\": [64],\n",
    "        \"max_depth\": [2],\n",
    "        \"min_child_samples\": [60, 65],\n",
    "        \"subsample\": [0.5],\n",
    "        \"colsample_bytree\": [0.5, 0.7]\n",
    "    }\n",
    "    \n",
    "    # Calculate scale_pos_weight\n",
    "    scale_pos_weight = len(y_train_tree[y_train_tree==0]) / len(y_train_tree[y_train_tree==1])\n",
    "    \n",
    "    # Base LightGBM model\n",
    "    lgb_base = lgb.LGBMClassifier(\n",
    "        objective='binary',\n",
    "        metric='auc',\n",
    "        random_state=42,\n",
    "        n_jobs=-1,\n",
    "        verbosity=-1,\n",
    "        scale_pos_weight=scale_pos_weight\n",
    "    )\n",
    "    \n",
    "    # GridSearchCV matching original\n",
    "    lgb_grid = GridSearchCV(\n",
    "        estimator=lgb_base,\n",
    "        param_grid=lgb_param_grid,\n",
    "        scoring='roc_auc',\n",
    "        cv=StratifiedKFold(n_splits=3, shuffle=True, random_state=42),\n",
    "        n_jobs=-1,\n",
    "        verbose=1\n",
    "    )\n",
    "    \n",
    "    print(\"Starting LightGBM hyperparameter search...\")\n",
    "    print(f\"Testing {np.prod([len(v) for v in lgb_param_grid.values()])} parameter combinations with 3-fold CV\")\n",
    "else:\n",
    "    print(\"LightGBM not available. Skipping hyperparameter tuning.\")"
   ]
  },
  {
   "cell_type": "code",
   "execution_count": 179,
   "metadata": {},
   "outputs": [
    {
     "name": "stdout",
     "output_type": "stream",
     "text": [
      "Fitting 3 folds for each of 8 candidates, totalling 24 fits\n",
      "\n",
      "Best LightGBM parameters:\n",
      "  colsample_bytree: 0.7\n",
      "  learning_rate: 0.07\n",
      "  max_depth: 2\n",
      "  min_child_samples: 65\n",
      "  n_estimators: 300\n",
      "  num_leaves: 64\n",
      "  subsample: 0.5\n",
      "\n",
      "Best cross-validated AUC: 0.8336\n",
      "\n",
      "Optimized LightGBM test AUC: 0.8306\n",
      "\n",
      "Top 10 Most Important Features (LightGBM):\n",
      "                   feature  importance\n",
      "2                 int_rate         183\n",
      "88       sub_grade_encoded         130\n",
      "14         last_pymnt_amnt         115\n",
      "87           grade_encoded          49\n",
      "33        int_rate_squared          37\n",
      "69      tot_cur_bal_zscore          34\n",
      "82            term_encoded          29\n",
      "54          int_rate_cubed          25\n",
      "8   mths_since_last_record          23\n",
      "0              funded_amnt          20\n",
      "\n",
      "LightGBM Hyperparameter Tuning completed in 670.25 seconds\n"
     ]
    }
   ],
   "source": [
    "if LIGHTGBM_AVAILABLE:\n",
    "\n",
    "    \n",
    "    # Fit the search\n",
    "    lgb_grid.fit(X_train_tree, y_train_tree)\n",
    "    \n",
    "    print(\"\\nBest LightGBM parameters:\")\n",
    "    for param, value in lgb_grid.best_params_.items():\n",
    "        print(f\"  {param}: {value}\")\n",
    "    \n",
    "    print(f\"\\nBest cross-validated AUC: {lgb_grid.best_score_:.4f}\")\n",
    "    \n",
    "    # Get best model\n",
    "    best_lgb = lgb_grid.best_estimator_\n",
    "    lgb_tuned_pred = best_lgb.predict_proba(X_test_tree)[:, 1]\n",
    "    lgb_tuned_auc = roc_auc_score(y_test_tree, lgb_tuned_pred)\n",
    "    \n",
    "    print(f\"\\nOptimized LightGBM test AUC: {lgb_tuned_auc:.4f}\")\n",
    "    \n",
    "    # Update model results\n",
    "    model_results['LightGBM (Tuned)'] = {'auc': lgb_tuned_auc, 'predictions': lgb_tuned_pred}\n",
    "    \n",
    "    # Feature importance\n",
    "    feature_importance_lgb = pd.DataFrame({\n",
    "        'feature': tree_features,\n",
    "        'importance': best_lgb.feature_importances_\n",
    "    }).sort_values('importance', ascending=False)\n",
    "    \n",
    "    print(\"\\nTop 10 Most Important Features (LightGBM):\")\n",
    "    print(feature_importance_lgb.head(10).to_string())\n",
    "\n",
    "else:\n",
    "    print(\"LightGBM not available. Skipping hyperparameter tuning.\")\n",
    "    \n",
    "section_end = print_section_time(\"LightGBM Hyperparameter Tuning\", section_start)"
   ]
  },
  {
   "cell_type": "markdown",
   "metadata": {},
   "source": [
    "## 6. Model Evaluation & Comparison"
   ]
  },
  {
   "cell_type": "code",
   "execution_count": 181,
   "metadata": {},
   "outputs": [
    {
     "name": "stdout",
     "output_type": "stream",
     "text": [
      "MODEL COMPARISON:\n",
      "              Model    AUC\n",
      "   LightGBM (Tuned) 0.8306\n",
      "           LightGBM 0.8282\n",
      "Logistic Regression 0.7874\n"
     ]
    }
   ],
   "source": [
    "section_start = time.time()\n",
    "\n",
    "# Model comparison\n",
    "comparison_df = pd.DataFrame([\n",
    "    {'Model': name, 'AUC': results['auc']} \n",
    "    for name, results in model_results.items()\n",
    "]).sort_values('AUC', ascending=False)\n",
    "\n",
    "print(\"MODEL COMPARISON:\")\n",
    "print(comparison_df.to_string(index=False))"
   ]
  },
  {
   "cell_type": "code",
   "execution_count": 182,
   "metadata": {},
   "outputs": [
    {
     "name": "stdout",
     "output_type": "stream",
     "text": [
      "\n",
      " Best Model: LightGBM (Tuned) (AUC: 0.8306)\n",
      "\n",
      "Logistic Regression Detailed Metrics:\n",
      "KS Statistic: 0.4236\n",
      "Gini Coefficient: 0.5749\n"
     ]
    }
   ],
   "source": [
    "# Best model\n",
    "best_model_name = comparison_df.iloc[0]['Model']\n",
    "best_auc = comparison_df.iloc[0]['AUC']\n",
    "print(f\"\\n Best Model: {best_model_name} (AUC: {best_auc:.4f})\")\n",
    "# Calculate additional metrics for primary model (Logistic Regression)\n",
    "fpr, tpr, thresholds = roc_curve(y_test, lr_pred_proba)\n",
    "ks_statistic = max(tpr - fpr)\n",
    "gini_coefficient = 2 * lr_auc - 1\n",
    "\n",
    "print(f\"\\nLogistic Regression Detailed Metrics:\")\n",
    "print(f\"KS Statistic: {ks_statistic:.4f}\")\n",
    "print(f\"Gini Coefficient: {gini_coefficient:.4f}\")"
   ]
  },
  {
   "cell_type": "code",
   "execution_count": 183,
   "metadata": {},
   "outputs": [
    {
     "data": {
      "image/png": "[encoded data removed]",
      "text/plain": [
       "<Figure size 1000x600 with 1 Axes>"
      ]
     },
     "metadata": {},
     "output_type": "display_data"
    },
    {
     "name": "stdout",
     "output_type": "stream",
     "text": [
      "\n",
      "Model Evaluation completed in 0.35 seconds\n"
     ]
    }
   ],
   "source": [
    "# Plot ROC curves\n",
    "plt.figure(figsize=(10, 6))\n",
    "for model_name, results in model_results.items():\n",
    "    fpr, tpr, _ = roc_curve(y_test, results['predictions'])\n",
    "    plt.plot(fpr, tpr, label=f\"{model_name} (AUC = {results['auc']:.3f})\")\n",
    "\n",
    "plt.plot([0, 1], [0, 1], 'k--', label='Random')\n",
    "plt.xlabel('False Positive Rate')\n",
    "plt.ylabel('True Positive Rate')\n",
    "plt.title('ROC Curves - Model Comparison')\n",
    "plt.legend()\n",
    "plt.grid(True, alpha=0.3)\n",
    "plt.show()\n",
    "\n",
    "section_end = print_section_time(\"Model Evaluation\", section_start)"
   ]
  },
  {
   "cell_type": "markdown",
   "metadata": {},
   "source": [
    "## 7. Credit Scorecard Creation"
   ]
  },
  {
   "cell_type": "code",
   "execution_count": 185,
   "metadata": {},
   "outputs": [
    {
     "name": "stdout",
     "output_type": "stream",
     "text": [
      "Credit Score Statistics:\n",
      "count   869263.0000\n",
      "mean       587.7666\n",
      "std         54.5046\n",
      "min        454.8762\n",
      "25%        550.3585\n",
      "50%        573.6006\n",
      "75%        608.6917\n",
      "max        779.7124\n",
      "Name: credit_score, dtype: float64\n"
     ]
    }
   ],
   "source": [
    "section_start = time.time()\n",
    "\n",
    "# Scorecard parameters\n",
    "PDO = 20  # Points to Double the Odds\n",
    "BASE_SCORE = 600  # Base score\n",
    "BASE_ODDS = 50  # Good:Bad odds at base score\n",
    "\n",
    "# Calculate scaling factor\n",
    "factor = PDO / np.log(2)\n",
    "offset = BASE_SCORE - factor * np.log(BASE_ODDS)\n",
    "\n",
    "# Calculate scores\n",
    "X_all = df[woe_features]\n",
    "log_odds = lr_model.intercept_[0] + np.dot(X_all, lr_model.coef_[0])\n",
    "df['credit_score'] = offset - factor * log_odds\n",
    "\n",
    "print(f\"Credit Score Statistics:\")\n",
    "print(df['credit_score'].describe())"
   ]
  },
  {
   "cell_type": "code",
   "execution_count": 186,
   "metadata": {},
   "outputs": [
    {
     "data": {
      "image/png": "[encoded data removed]",
      "text/plain": [
       "<Figure size 1200x600 with 2 Axes>"
      ]
     },
     "metadata": {},
     "output_type": "display_data"
    },
    {
     "name": "stdout",
     "output_type": "stream",
     "text": [
      "\n",
      "Credit Scorecard Creation completed in 2.02 seconds\n"
     ]
    }
   ],
   "source": [
    "# Score distribution by target\n",
    "plt.figure(figsize=(12, 6))\n",
    "plt.subplot(1, 2, 1)\n",
    "df[df['target'] == 0]['credit_score'].hist(bins=50, alpha=0.7, label='Good', color='green')\n",
    "df[df['target'] == 1]['credit_score'].hist(bins=50, alpha=0.7, label='Bad', color='red')\n",
    "plt.xlabel('Credit Score')\n",
    "plt.ylabel('Count')\n",
    "plt.title('Score Distribution by Target')\n",
    "plt.legend()\n",
    "\n",
    "# Risk segments\n",
    "plt.subplot(1, 2, 2)\n",
    "score_bins = pd.qcut(df['credit_score'], 5, labels=['Very High Risk', 'High Risk', 'Medium Risk', 'Low Risk', 'Very Low Risk'])\n",
    "risk_analysis = pd.crosstab(score_bins, df['target'], normalize='index') * 100\n",
    "risk_analysis[1].plot(kind='bar')\n",
    "plt.xlabel('Risk Segment')\n",
    "plt.ylabel('Default Rate (%)')\n",
    "plt.title('Default Rate by Risk Segment')\n",
    "plt.xticks(rotation=45)\n",
    "plt.tight_layout()\n",
    "plt.show()\n",
    "\n",
    "section_end = print_section_time(\"Credit Scorecard Creation\", section_start)"
   ]
  },
  {
   "cell_type": "markdown",
   "metadata": {},
   "source": [
    "## 8. Business Impact Analysis"
   ]
  },
  {
   "cell_type": "code",
   "execution_count": 193,
   "metadata": {},
   "outputs": [
    {
     "name": "stdout",
     "output_type": "stream",
     "text": [
      "RISK SEGMENTATION ANALYSIS:\n",
      "                Avg_Score  Min_Score  Max_Score  Total_Loans  Defaults  \\\n",
      "risk_segment                                                             \n",
      "Very High Risk   530.4100   454.8760   545.3040       173853     33140   \n",
      "High Risk        555.1310   545.3040   564.4260       173852     15340   \n",
      "Medium Risk      573.8580   564.4260   584.3600       173853      8437   \n",
      "Low Risk         600.3830   584.3600   619.8930       173853      3578   \n",
      "Very Low Risk    679.0510   619.8930   779.7120       173852       405   \n",
      "\n",
      "                Default_Rate  \n",
      "risk_segment                  \n",
      "Very High Risk        0.1910  \n",
      "High Risk             0.0880  \n",
      "Medium Risk           0.0490  \n",
      "Low Risk              0.0210  \n",
      "Very Low Risk         0.0020  \n"
     ]
    }
   ],
   "source": [
    "section_start = time.time()\n",
    "\n",
    "# Risk segmentation analysis\n",
    "df['risk_segment'] = pd.qcut(df['credit_score'], 5, \n",
    "                             labels=['Very High Risk', 'High Risk', 'Medium Risk', 'Low Risk', 'Very Low Risk'])\n",
    "\n",
    "segment_analysis = df.groupby('risk_segment').agg({\n",
    "    'credit_score': ['mean', 'min', 'max'],\n",
    "    'target': ['count', 'sum', 'mean']\n",
    "}).round(3)\n",
    "\n",
    "segment_analysis.columns = ['Avg_Score', 'Min_Score', 'Max_Score', 'Total_Loans', 'Defaults', 'Default_Rate']\n",
    "\n",
    "print(\"RISK SEGMENTATION ANALYSIS:\")\n",
    "print(segment_analysis)"
   ]
  },
  {
   "cell_type": "code",
   "execution_count": 195,
   "metadata": {},
   "outputs": [],
   "source": [
    "# Economic impact calculation\n",
    "avg_loan_amount = 15000  # Assumed average loan amount\n",
    "lgd = 0.45  # Loss Given Default\n",
    "\n",
    "# Current state\n",
    "total_loans = len(df)\n",
    "total_portfolio = total_loans * avg_loan_amount\n",
    "current_default_rate = df['target'].mean()\n",
    "current_expected_loss = total_portfolio * current_default_rate * lgd\n",
    "\n",
    "# With model (reject bottom 20%)\n",
    "acceptance_threshold = df['credit_score'].quantile(0.2)\n",
    "accepted_loans = df[df['credit_score'] > acceptance_threshold]\n",
    "model_default_rate = accepted_loans['target'].mean()\n",
    "model_portfolio = len(accepted_loans) * avg_loan_amount\n",
    "model_expected_loss = model_portfolio * model_default_rate * lgd"
   ]
  },
  {
   "cell_type": "code",
   "execution_count": 199,
   "metadata": {},
   "outputs": [
    {
     "name": "stdout",
     "output_type": "stream",
     "text": [
      "\n",
      "ECONOMIC IMPACT ANALYSIS:\n",
      "Current Portfolio: $13,089,990,000\n",
      "Current Expected Loss: $412,938,000 (7.01% default rate)\n",
      "\n",
      "Model-Based Portfolio: $10,431,150,000\n",
      "Model Expected Loss: $187,380,000 (3.99% default rate)\n",
      "\n",
      "Expected Loss Reduction: $225,558,000\n",
      "Relative Improvement: 54.6%\n",
      "\n",
      "Business Impact Analysis completed in 4.54 seconds\n"
     ]
    }
   ],
   "source": [
    "print(f\"\\nECONOMIC IMPACT ANALYSIS:\")\n",
    "print(f\"Current Portfolio: ${total_portfolio:,.0f}\")\n",
    "print(f\"Current Expected Loss: ${current_expected_loss:,.0f} ({current_default_rate:.2%} default rate)\")\n",
    "print(f\"\\nModel-Based Portfolio: ${model_portfolio:,.0f}\")\n",
    "print(f\"Model Expected Loss: ${model_expected_loss:,.0f} ({model_default_rate:.2%} default rate)\")\n",
    "print(f\"\\nExpected Loss Reduction: ${current_expected_loss - model_expected_loss:,.0f}\")\n",
    "print(f\"Relative Improvement: {((current_expected_loss - model_expected_loss) / current_expected_loss):.1%}\")\n",
    "\n",
    "section_end = print_section_time(\"Business Impact Analysis\", section_start)"
   ]
  },
  {
   "cell_type": "markdown",
   "metadata": {},
   "source": [
    "## 9. Production Deployment Guide\n",
    "\n",
    "### 9.1 Model Export"
   ]
  },
  {
   "cell_type": "code",
   "execution_count": 202,
   "metadata": {},
   "outputs": [
    {
     "name": "stdout",
     "output_type": "stream",
     "text": [
      "DEPLOYMENT PACKAGE SUMMARY:\n",
      "Model Type: Logistic Regression\n",
      "Features: 30\n",
      "Performance: AUC=0.787, KS=0.424\n",
      "\n",
      "Risk Thresholds:\n",
      "  high_risk: < 545\n",
      "  medium_risk: < 574\n",
      "  low_risk: < 620\n",
      "\n",
      "Production Deployment Guide completed in 0.06 seconds\n"
     ]
    }
   ],
   "source": [
    "section_start = time.time()\n",
    "\n",
    "# Create deployment package\n",
    "deployment_package = {\n",
    "    'model': lr_model,\n",
    "    'features': woe_features,\n",
    "    'woe_mappings': {},  # Would include actual WOE mappings\n",
    "    'scorecard_params': {\n",
    "        'PDO': PDO,\n",
    "        'BASE_SCORE': BASE_SCORE,\n",
    "        'BASE_ODDS': BASE_ODDS,\n",
    "        'factor': factor,\n",
    "        'offset': offset\n",
    "    },\n",
    "    'performance_metrics': {\n",
    "        'auc': lr_auc,\n",
    "        'ks_statistic': ks_statistic,\n",
    "        'gini_coefficient': gini_coefficient\n",
    "    },\n",
    "    'thresholds': {\n",
    "        'high_risk': df['credit_score'].quantile(0.2),\n",
    "        'medium_risk': df['credit_score'].quantile(0.5),\n",
    "        'low_risk': df['credit_score'].quantile(0.8)\n",
    "    }\n",
    "}\n",
    "\n",
    "print(\"DEPLOYMENT PACKAGE SUMMARY:\")\n",
    "print(f\"Model Type: Logistic Regression\")\n",
    "print(f\"Features: {len(woe_features)}\")\n",
    "print(f\"Performance: AUC={lr_auc:.3f}, KS={ks_statistic:.3f}\")\n",
    "print(f\"\\nRisk Thresholds:\")\n",
    "for risk_level, threshold in deployment_package['thresholds'].items():\n",
    "    print(f\"  {risk_level}: < {threshold:.0f}\")\n",
    "\n",
    "# Save model (uncomment to actually save)\n",
    "# import joblib\n",
    "# joblib.dump(deployment_package, 'credit_risk_model_v1.pkl')\n",
    "\n",
    "section_end = print_section_time(\"Production Deployment Guide\", section_start)"
   ]
  },
  {
   "cell_type": "markdown",
   "metadata": {},
   "source": [
    "### 9.2 Monitoring Framework"
   ]
  },
  {
   "cell_type": "code",
   "execution_count": 204,
   "metadata": {},
   "outputs": [
    {
     "name": "stdout",
     "output_type": "stream",
     "text": [
      "MONITORING FRAMEWORK:\n",
      "\n",
      "Key Metrics to Track:\n",
      "  1. Model Performance: AUC, KS statistic (monthly)\n",
      "  2. Population Stability Index (PSI) for score distribution\n",
      "  3. Feature drift monitoring for all input variables\n",
      "  4. Business metrics: approval rate, default rate, portfolio yield\n",
      "  5. Regulatory compliance: fair lending metrics\n",
      "\n",
      "Recommended Refresh Schedule:\n",
      "  • Monthly: Performance monitoring report\n",
      "  • Quarterly: Full model validation\n",
      "  • Annually: Model retraining and recalibration\n",
      "  • Ad-hoc: Major economic events or regulatory changes\n"
     ]
    }
   ],
   "source": [
    "print(\"MONITORING FRAMEWORK:\")\n",
    "print(\"\\nKey Metrics to Track:\")\n",
    "monitoring_metrics = [\n",
    "    \"1. Model Performance: AUC, KS statistic (monthly)\",\n",
    "    \"2. Population Stability Index (PSI) for score distribution\",\n",
    "    \"3. Feature drift monitoring for all input variables\",\n",
    "    \"4. Business metrics: approval rate, default rate, portfolio yield\",\n",
    "    \"5. Regulatory compliance: fair lending metrics\"\n",
    "]\n",
    "for metric in monitoring_metrics:\n",
    "    print(f\"  {metric}\")\n",
    "\n",
    "print(\"\\nRecommended Refresh Schedule:\")\n",
    "print(\"  • Monthly: Performance monitoring report\")\n",
    "print(\"  • Quarterly: Full model validation\")\n",
    "print(\"  • Annually: Model retraining and recalibration\")\n",
    "print(\"  • Ad-hoc: Major economic events or regulatory changes\")"
   ]
  },
  {
   "cell_type": "markdown",
   "metadata": {},
   "source": [
    "## Summary and Total Execution Time"
   ]
  },
  {
   "cell_type": "code",
   "execution_count": 207,
   "metadata": {},
   "outputs": [
    {
     "name": "stdout",
     "output_type": "stream",
     "text": [
      "\n",
      "🏁 NOTEBOOK EXECUTION COMPLETE\n",
      "Total execution time: 1590.85 seconds (26.5 minutes)\n",
      "\n",
      "Final Model Summary:\n",
      "  • Model: Logistic Regression with WOE transformation\n",
      "  • Features: 30 (selected from 181 original features)\n",
      "  • Performance: AUC=0.787, KS=0.424, Gini=0.575\n",
      "  • Business Impact: 55% expected loss reduction\n",
      "  • Status: Ready for A/B testing and gradual rollout\n"
     ]
    }
   ],
   "source": [
    "total_time = time.time() - notebook_start_time\n",
    "print(f\"\\n🏁 NOTEBOOK EXECUTION COMPLETE\")\n",
    "print(f\"Total execution time: {total_time:.2f} seconds ({total_time/60:.1f} minutes)\")\n",
    "\n",
    "print(\"\\nFinal Model Summary:\")\n",
    "print(f\"  • Model: Logistic Regression with WOE transformation\")\n",
    "print(f\"  • Features: {len(woe_features)} (selected from {df.shape[1]-1} original features)\")\n",
    "print(f\"  • Performance: AUC={lr_auc:.3f}, KS={ks_statistic:.3f}, Gini={gini_coefficient:.3f}\")\n",
    "print(f\"  • Business Impact: {((current_expected_loss - model_expected_loss) / current_expected_loss):.0%} expected loss reduction\")\n",
    "print(f\"  • Status: Ready for A/B testing and gradual rollout\")"
   ]
  }
 ],
 "metadata": {
  "kernelspec": {
   "display_name": "Python [conda env:base] *",
   "language": "python",
   "name": "conda-base-py"
  },
  "language_info": {
   "codemirror_mode": {
    "name": "ipython",
    "version": 3
   },
   "file_extension": ".py",
   "mimetype": "text/x-python",
   "name": "python",
   "nbconvert_exporter": "python",
   "pygments_lexer": "ipython3",
   "version": "3.12.7"
  }
 },
 "nbformat": 4,
 "nbformat_minor": 4
}
